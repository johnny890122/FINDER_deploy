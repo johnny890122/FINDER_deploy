{
 "cells": [
  {
   "cell_type": "code",
   "execution_count": 26,
   "metadata": {},
   "outputs": [
    {
     "data": {
      "text/plain": [
       "'aa'"
      ]
     },
     "execution_count": 26,
     "metadata": {},
     "output_type": "execute_result"
    }
   ],
   "source": [
    "import pygsheets\n",
    "# from const import finder_link_sheet_url, auth_file\n",
    "finder_link_sheet_url = \"https://docs.google.com/spreadsheets/d/15t8MjE9mLmHGQDWzGGqEPiri402DKU1Ux8EX9XyxwcA/\"\n",
    "auth_file = \"finderlink-381806-aa232dd1eff5.json\"\n",
    "\n",
    "def fetch_link(sheet_url, auth_file):\n",
    "    buffer = 0.01\n",
    "    gc = pygsheets.authorize(service_file = auth_file)\n",
    "\n",
    "    sheet = gc.open_by_url(sheet_url)\n",
    "\n",
    "    df = sheet.worksheet_by_title(\"link\").get_as_df()\n",
    "\n",
    "    df = df[df[\"num_used\"] <= df[\"total_avaiable\"]*(1-buffer)]\n",
    "\n",
    "    return df[\"link\"].iloc[0]\n",
    "\n",
    "fetch_link(finder_link_sheet_url, auth_file)"
   ]
  },
  {
   "cell_type": "code",
   "execution_count": 29,
   "metadata": {},
   "outputs": [
    {
     "data": {
      "text/html": [
       "<div>\n",
       "<style scoped>\n",
       "    .dataframe tbody tr th:only-of-type {\n",
       "        vertical-align: middle;\n",
       "    }\n",
       "\n",
       "    .dataframe tbody tr th {\n",
       "        vertical-align: top;\n",
       "    }\n",
       "\n",
       "    .dataframe thead th {\n",
       "        text-align: right;\n",
       "    }\n",
       "</style>\n",
       "<table border=\"1\" class=\"dataframe\">\n",
       "  <thead>\n",
       "    <tr style=\"text-align: right;\">\n",
       "      <th></th>\n",
       "      <th>link</th>\n",
       "      <th>total_avaiable</th>\n",
       "      <th>num_used</th>\n",
       "    </tr>\n",
       "  </thead>\n",
       "  <tbody>\n",
       "    <tr>\n",
       "      <th>0</th>\n",
       "      <td>aa</td>\n",
       "      <td>1000</td>\n",
       "      <td>2</td>\n",
       "    </tr>\n",
       "    <tr>\n",
       "      <th>1</th>\n",
       "      <td>bb</td>\n",
       "      <td>1000</td>\n",
       "      <td>0</td>\n",
       "    </tr>\n",
       "  </tbody>\n",
       "</table>\n",
       "</div>"
      ],
      "text/plain": [
       "  link total_avaiable num_used\n",
       "0   aa           1000        2\n",
       "1   bb           1000        0"
      ]
     },
     "execution_count": 29,
     "metadata": {},
     "output_type": "execute_result"
    }
   ],
   "source": [
    "def upload_info(sheet_url, auth_file, link):\n",
    "\n",
    "\tgc = pygsheets.authorize(service_file = auth_file)\n",
    "    \n",
    "\tsheet = gc.open_by_url(sheet_url)\n",
    "\tdf = sheet.worksheet_by_title(\"link\").get_as_df()\n",
    "\n",
    "\tdf.loc[df[\"link\"] == link, \"num_used\"] += 1\n",
    "\tsheet.worksheet_by_title(\"link\").clear()\n",
    "\n",
    "\tsheet.worksheet_by_title(\"link\").set_dataframe(df, start = \"A1\")\n",
    "\n",
    "upload_info(finder_link_sheet_url, auth_file, \"aa\")"
   ]
  },
  {
   "cell_type": "code",
   "execution_count": 8,
   "metadata": {},
   "outputs": [
    {
     "data": {
      "text/plain": [
       "NodeDataView({2: {}, 3: {}, 4: {}, 5: {}, 6: {}, 7: {}, 8: {}, 9: {}, 10: {}, 11: {}, 12: {}, 13: {}, 14: {}, 15: {}, 16: {}, 17: {}, 18: {}, 19: {}, 20: {}})"
      ]
     },
     "execution_count": 8,
     "metadata": {},
     "output_type": "execute_result"
    }
   ],
   "source": [
    "def read_911(full):\n",
    "    if full:\n",
    "        G = nx.read_gml(\"./sample_data/full_911.gml\")\n",
    "    else:\n",
    "        G = nx.read_gml(\"./sample_data/911.gml\")\n",
    "    map_dct = {\n",
    "        node: idx + 2 for idx, node in enumerate(G.nodes())\n",
    "    }\n",
    "\n",
    "    return nx.relabel_nodes(G, map_dct, copy=True)\n",
    "\n",
    "_911 = read_911(full=True)\n",
    "_911.nodes(data=True)"
   ]
  },
  {
   "cell_type": "code",
   "execution_count": 18,
   "metadata": {},
   "outputs": [
    {
     "data": {
      "text/plain": [
       "{'nodes': [{'id': '2'},\n",
       "  {'id': '3'},\n",
       "  {'id': '4'},\n",
       "  {'id': '5'},\n",
       "  {'id': '6'},\n",
       "  {'id': '7'},\n",
       "  {'id': '8'},\n",
       "  {'id': '9'},\n",
       "  {'id': '10'},\n",
       "  {'id': '11'},\n",
       "  {'id': '12'},\n",
       "  {'id': '13'},\n",
       "  {'id': '14'},\n",
       "  {'id': '15'},\n",
       "  {'id': '16'},\n",
       "  {'id': '17'},\n",
       "  {'id': '18'},\n",
       "  {'id': '19'},\n",
       "  {'id': '20'}],\n",
       " 'links': [{'source': '2', 'target': '3'},\n",
       "  {'source': '3', 'target': '4'},\n",
       "  {'source': '3', 'target': '5'},\n",
       "  {'source': '4', 'target': '5'},\n",
       "  {'source': '5', 'target': '6'},\n",
       "  {'source': '5', 'target': '7'},\n",
       "  {'source': '5', 'target': '8'},\n",
       "  {'source': '5', 'target': '9'},\n",
       "  {'source': '7', 'target': '8'},\n",
       "  {'source': '7', 'target': '9'},\n",
       "  {'source': '8', 'target': '9'},\n",
       "  {'source': '8', 'target': '11'},\n",
       "  {'source': '9', 'target': '10'},\n",
       "  {'source': '9', 'target': '11'},\n",
       "  {'source': '9', 'target': '12'},\n",
       "  {'source': '11', 'target': '13'},\n",
       "  {'source': '12', 'target': '14'},\n",
       "  {'source': '13', 'target': '15'},\n",
       "  {'source': '13', 'target': '16'},\n",
       "  {'source': '14', 'target': '15'},\n",
       "  {'source': '15', 'target': '16'},\n",
       "  {'source': '15', 'target': '17'},\n",
       "  {'source': '16', 'target': '17'},\n",
       "  {'source': '17', 'target': '18'},\n",
       "  {'source': '18', 'target': '19'},\n",
       "  {'source': '18', 'target': '20'},\n",
       "  {'source': '19', 'target': '20'}]}"
      ]
     },
     "execution_count": 18,
     "metadata": {},
     "output_type": "execute_result"
    }
   ],
   "source": [
    "import networkx as nx\n",
    "import json\n",
    "\n",
    "# Load the GML graph\n",
    "G = read_911(full=True)\n",
    "\n",
    "# Initialize JSON structure\n",
    "json_data = {\n",
    "    \"nodes\": [],\n",
    "    \"links\": []\n",
    "}\n",
    "\n",
    "# Convert nodes\n",
    "for node in G.nodes(data=True):\n",
    "    json_data[\"nodes\"].append({\"id\": str(node[0])})\n",
    "\n",
    "# Convert edges\n",
    "for edge in G.edges():\n",
    "    json_data[\"links\"].append({\"source\": str(edge[0]), \"target\": str(edge[1])})\n",
    "\n",
    "json_data\n",
    "# # Save as JSON\n",
    "with open('./sample_data/full_911.json', 'w') as json_file:\n",
    "    json.dump(json_data, json_file, indent=2)\n",
    "\n",
    "# print(\"Conversion complete. JSON saved as 'output.json'.\")"
   ]
  },
  {
   "cell_type": "code",
   "execution_count": null,
   "metadata": {},
   "outputs": [],
   "source": []
  }
 ],
 "metadata": {
  "kernelspec": {
   "display_name": "Python 3",
   "language": "python",
   "name": "python3"
  },
  "language_info": {
   "codemirror_mode": {
    "name": "ipython",
    "version": 3
   },
   "file_extension": ".py",
   "mimetype": "text/x-python",
   "name": "python",
   "nbconvert_exporter": "python",
   "pygments_lexer": "ipython3",
   "version": "3.7.17"
  },
  "orig_nbformat": 4
 },
 "nbformat": 4,
 "nbformat_minor": 2
}
