{
 "cells": [
  {
   "cell_type": "code",
   "execution_count": 26,
   "metadata": {},
   "outputs": [
    {
     "data": {
      "text/plain": [
       "'aa'"
      ]
     },
     "execution_count": 26,
     "metadata": {},
     "output_type": "execute_result"
    }
   ],
   "source": [
    "import pygsheets\n",
    "# from const import finder_link_sheet_url, auth_file\n",
    "finder_link_sheet_url = \"https://docs.google.com/spreadsheets/d/15t8MjE9mLmHGQDWzGGqEPiri402DKU1Ux8EX9XyxwcA/\"\n",
    "auth_file = \"finderlink-381806-aa232dd1eff5.json\"\n",
    "\n",
    "def fetch_link(sheet_url, auth_file):\n",
    "    buffer = 0.01\n",
    "    gc = pygsheets.authorize(service_file = auth_file)\n",
    "\n",
    "    sheet = gc.open_by_url(sheet_url)\n",
    "\n",
    "    df = sheet.worksheet_by_title(\"link\").get_as_df()\n",
    "\n",
    "    df = df[df[\"num_used\"] <= df[\"total_avaiable\"]*(1-buffer)]\n",
    "\n",
    "    return df[\"link\"].iloc[0]\n",
    "\n",
    "fetch_link(finder_link_sheet_url, auth_file)"
   ]
  },
  {
   "cell_type": "code",
   "execution_count": 29,
   "metadata": {},
   "outputs": [
    {
     "data": {
      "text/html": [
       "<div>\n",
       "<style scoped>\n",
       "    .dataframe tbody tr th:only-of-type {\n",
       "        vertical-align: middle;\n",
       "    }\n",
       "\n",
       "    .dataframe tbody tr th {\n",
       "        vertical-align: top;\n",
       "    }\n",
       "\n",
       "    .dataframe thead th {\n",
       "        text-align: right;\n",
       "    }\n",
       "</style>\n",
       "<table border=\"1\" class=\"dataframe\">\n",
       "  <thead>\n",
       "    <tr style=\"text-align: right;\">\n",
       "      <th></th>\n",
       "      <th>link</th>\n",
       "      <th>total_avaiable</th>\n",
       "      <th>num_used</th>\n",
       "    </tr>\n",
       "  </thead>\n",
       "  <tbody>\n",
       "    <tr>\n",
       "      <th>0</th>\n",
       "      <td>aa</td>\n",
       "      <td>1000</td>\n",
       "      <td>2</td>\n",
       "    </tr>\n",
       "    <tr>\n",
       "      <th>1</th>\n",
       "      <td>bb</td>\n",
       "      <td>1000</td>\n",
       "      <td>0</td>\n",
       "    </tr>\n",
       "  </tbody>\n",
       "</table>\n",
       "</div>"
      ],
      "text/plain": [
       "  link total_avaiable num_used\n",
       "0   aa           1000        2\n",
       "1   bb           1000        0"
      ]
     },
     "execution_count": 29,
     "metadata": {},
     "output_type": "execute_result"
    }
   ],
   "source": [
    "def upload_info(sheet_url, auth_file, link):\n",
    "\n",
    "\tgc = pygsheets.authorize(service_file = auth_file)\n",
    "    \n",
    "\tsheet = gc.open_by_url(sheet_url)\n",
    "\tdf = sheet.worksheet_by_title(\"link\").get_as_df()\n",
    "\n",
    "\tdf.loc[df[\"link\"] == link, \"num_used\"] += 1\n",
    "\tsheet.worksheet_by_title(\"link\").clear()\n",
    "\n",
    "\tsheet.worksheet_by_title(\"link\").set_dataframe(df, start = \"A1\")\n",
    "\n",
    "upload_info(finder_link_sheet_url, auth_file, \"aa\")"
   ]
  },
  {
   "cell_type": "code",
   "execution_count": 8,
   "metadata": {},
   "outputs": [
    {
     "data": {
      "text/plain": [
       "NodeDataView({2: {}, 3: {}, 4: {}, 5: {}, 6: {}, 7: {}, 8: {}, 9: {}, 10: {}, 11: {}, 12: {}, 13: {}, 14: {}, 15: {}, 16: {}, 17: {}, 18: {}, 19: {}, 20: {}})"
      ]
     },
     "execution_count": 8,
     "metadata": {},
     "output_type": "execute_result"
    }
   ],
   "source": [
    "def read_911(full):\n",
    "    if full:\n",
    "        G = nx.read_gml(\"./sample_data/full_911.gml\")\n",
    "    else:\n",
    "        G = nx.read_gml(\"./sample_data/911.gml\")\n",
    "    map_dct = {\n",
    "        node: idx + 2 for idx, node in enumerate(G.nodes())\n",
    "    }\n",
    "\n",
    "    return nx.relabel_nodes(G, map_dct, copy=True)\n",
    "\n",
    "_911 = read_911(full=True)\n",
    "_911.nodes(data=True)"
   ]
  },
  {
   "cell_type": "code",
   "execution_count": 19,
   "metadata": {},
   "outputs": [],
   "source": [
    "import networkx as nx\n",
    "import json\n",
    "\n",
    "# Load the GML graph\n",
    "G = read_911(full=True)\n",
    "\n",
    "# Initialize JSON structure\n",
    "json_data = {\n",
    "    \"nodes\": [],\n",
    "    \"links\": []\n",
    "}\n",
    "\n",
    "# Convert nodes\n",
    "for node in G.nodes(data=True):\n",
    "    json_data[\"nodes\"].append({\"id\": str(node[0])})\n",
    "\n",
    "# Convert edges\n",
    "for edge in G.edges():\n",
    "    json_data[\"links\"].append({\"source\": str(edge[0]), \"target\": str(edge[1])})\n",
    "\n",
    "json_data\n",
    "# # Save as JSON\n",
    "with open('./sample_data/full_911.json', 'w') as json_file:\n",
    "    json.dump(json_data, json_file, indent=2)\n",
    "\n",
    "# print(\"Conversion complete. JSON saved as 'output.json'.\")"
   ]
  },
  {
   "cell_type": "code",
   "execution_count": 20,
   "metadata": {},
   "outputs": [],
   "source": [
    "def read_everett(full):\n",
    "\n",
    "    # G = nx.read_gml(\"./sample_data/everett.gml\")\n",
    "    # return G\n",
    "    filename = \"./sample_data/everett.json\"\n",
    "    with open(filename) as f:\n",
    "        js_graph = json.load(f)\n",
    "    G = json_graph.node_link_graph(js_graph, multigraph=False)\n",
    "    map_dct = {node: int(node) for node in G.nodes()}\n",
    "    return nx.relabel_nodes(G, map_dct, copy=True)"
   ]
  },
  {
   "cell_type": "code",
   "execution_count": 23,
   "metadata": {},
   "outputs": [
    {
     "data": {
      "text/plain": [
       "NodeView((1, 2, 3, 4, 5, 6, 7, 8, 9, 10, 11, 12, 13))"
      ]
     },
     "execution_count": 23,
     "metadata": {},
     "output_type": "execute_result"
    }
   ],
   "source": [
    "from networkx.readwrite import json_graph\n",
    "\n",
    "G = read_everett(full=True)\n",
    "G.nodes()"
   ]
  },
  {
   "cell_type": "code",
   "execution_count": 24,
   "metadata": {},
   "outputs": [
    {
     "data": {
      "text/plain": [
       "DegreeView({1: 1, 2: 1, 3: 4, 4: 1, 5: 3, 6: 3, 7: 3, 8: 3, 9: 2, 10: 3, 11: 2, 12: 1, 13: 1})"
      ]
     },
     "execution_count": 24,
     "metadata": {},
     "output_type": "execute_result"
    }
   ],
   "source": [
    "G.degree() #3"
   ]
  },
  {
   "cell_type": "code",
   "execution_count": 25,
   "metadata": {},
   "outputs": [
    {
     "data": {
      "text/plain": [
       "{1: 0.2727272727272727,\n",
       " 2: 0.2727272727272727,\n",
       " 3: 0.36363636363636365,\n",
       " 4: 0.3076923076923077,\n",
       " 5: 0.42857142857142855,\n",
       " 6: 0.4444444444444444,\n",
       " 7: 0.375,\n",
       " 8: 0.4,\n",
       " 9: 0.32432432432432434,\n",
       " 10: 0.34285714285714286,\n",
       " 11: 0.2727272727272727,\n",
       " 12: 0.21818181818181817,\n",
       " 13: 0.2727272727272727}"
      ]
     },
     "execution_count": 25,
     "metadata": {},
     "output_type": "execute_result"
    }
   ],
   "source": [
    "nx.closeness_centrality(G) #5"
   ]
  },
  {
   "cell_type": "code",
   "execution_count": null,
   "metadata": {},
   "outputs": [],
   "source": []
  }
 ],
 "metadata": {
  "kernelspec": {
   "display_name": "Python 3",
   "language": "python",
   "name": "python3"
  },
  "language_info": {
   "codemirror_mode": {
    "name": "ipython",
    "version": 3
   },
   "file_extension": ".py",
   "mimetype": "text/x-python",
   "name": "python",
   "nbconvert_exporter": "python",
   "pygments_lexer": "ipython3",
   "version": "3.7.17"
  },
  "orig_nbformat": 4
 },
 "nbformat": 4,
 "nbformat_minor": 2
}
