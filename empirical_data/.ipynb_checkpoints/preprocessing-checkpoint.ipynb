{
 "cells": [
  {
   "cell_type": "code",
   "execution_count": 1,
   "id": "3aceea88",
   "metadata": {},
   "outputs": [],
   "source": [
    "import networkx as nx\n",
    "import pandas as pd\n",
    "import numpy as np\n",
    "import os\n",
    "import xml.etree.ElementTree as ET"
   ]
  },
  {
   "cell_type": "code",
   "execution_count": 2,
   "id": "8854b68f",
   "metadata": {
    "scrolled": false
   },
   "outputs": [],
   "source": [
    "# Load XML data from a file\n",
    "tree = ET.parse(\"9_11_hijackers.xml\")\n",
    "\n",
    "# Get the root element\n",
    "root = tree.getroot()\n",
    "\n",
    "nodes = [\"Hamza Alghamdi\", \"Ahmed Alghamdi\", \"Mohand Alshehri*\", \"Fayez Ahmed\", \n",
    "\"Ahmed Alnami\", \"Saeed Alghamdi*\", \"Ziad Jarrah\", \"Marwan Al-Shehhi\", \n",
    "\"Salem Alhazmi*\", \"Nawaf Alhazmi\", \"Khalid Al-Mihdhar\", \"Hani Hanjour\", \n",
    "\"Majed Moqed\", \"Mohamed Atta\",  \"Abdul Aziz Al-Omari*\", \"Ahmed Al Haznawi\",\n",
    "\"Waleed Alshehri\", \"Satam Suqami\", \"Wail Alshehri\"]\n",
    "\n",
    "source_lst, target_lst = [], []      \n",
    "for element in root.iter():\n",
    "    if element.tag == \"link\" and element.attrib['source'] in nodes and element.attrib['target'] in nodes:\n",
    "        source_lst.append(element.attrib['source'])\n",
    "        target_lst.append(element.attrib[\"target\"])\n",
    "        \n",
    "df_911 = pd.DataFrame({\"source\": source_lst, \"target\": target_lst})\n",
    "g_911 = nx.from_pandas_edgelist(df_911, source='source', target='target')\n",
    "\n",
    "nx.write_gml(g_911, \"911.gml\")"
   ]
  },
  {
   "cell_type": "code",
   "execution_count": 3,
   "id": "e3ff979c",
   "metadata": {},
   "outputs": [],
   "source": [
    "# DOMESTICTERRORWEB.csv\n",
    "# adjacency matrix\n",
    "\n",
    "df_DOMESTICTERRORWEB = pd.read_csv(\"DOMESTICTERRORWEB.csv\").rename(columns={\"Unnamed: 0\": \"node\"}).set_index(\"node\")\n",
    "assert df_DOMESTICTERRORWEB.shape[0] == df_DOMESTICTERRORWEB.shape[1]\n",
    "g_DOMESTICTERRORWEB = nx.from_pandas_adjacency(df_DOMESTICTERRORWEB)\n",
    "\n",
    "nx.write_gml(g_DOMESTICTERRORWEB, \"DOMESTICTERRORWEB.gml\")"
   ]
  },
  {
   "cell_type": "code",
   "execution_count": 4,
   "id": "35a2b79b",
   "metadata": {},
   "outputs": [],
   "source": [
    "# HEROIN_DEALING.csv\n",
    "# adjacency matrix\n",
    "\n",
    "df_HEROIN_DEALING = pd.read_csv(\"HEROIN_DEALING.csv\").rename(columns={\"Unnamed: 0\": \"node\"}).set_index(\"node\")\n",
    "assert df_HEROIN_DEALING.shape[0] == df_HEROIN_DEALING.shape[1]\n",
    "g_HEROIN_DEALING = nx.from_pandas_adjacency(df_HEROIN_DEALING)\n",
    "\n",
    "nx.write_gml(g_HEROIN_DEALING, \"HEROIN_DEALING.gml\")"
   ]
  },
  {
   "cell_type": "code",
   "execution_count": 5,
   "id": "42fee0c9",
   "metadata": {},
   "outputs": [],
   "source": [
    "# MALI.csv\n",
    "# adjacency matrix\n",
    "\n",
    "df_MAIL = pd.read_csv(\"MALI.csv\").rename(columns={\"Unnamed: 0\": \"node\"}).set_index(\"node\")\n",
    "assert df_MAIL.shape[0] == df_MAIL.shape[1]\n",
    "g_MAIL = nx.from_pandas_adjacency(df_MAIL)\n",
    "\n",
    "nx.write_gml(g_MAIL, \"MAIL.gml\")"
   ]
  },
  {
   "cell_type": "code",
   "execution_count": 6,
   "id": "8e325131",
   "metadata": {},
   "outputs": [],
   "source": [
    "# SWINGERS.csv\n",
    "df_SWINGERS = pd.read_csv(\"SWINGERS.csv\").rename(columns={\"Unnamed: 0\": \"node\"}).set_index(\"node\")\n",
    "df_SWINGERS = df_SWINGERS.stack().reset_index().rename(columns={\"node\": \"source\", \"level_1\": \"target\", 0: \"value\"})\n",
    "df_SWINGERS = df_SWINGERS[df_SWINGERS[\"value\"] == 1]\n",
    "g_SWINGERS = nx.from_pandas_edgelist(df_SWINGERS, source='source', target='target', edge_attr='value')\n",
    "\n",
    "nx.write_gml(g_SWINGERS, \"SWINGERS.gml\")"
   ]
  },
  {
   "cell_type": "code",
   "execution_count": 7,
   "id": "b139a337",
   "metadata": {},
   "outputs": [],
   "source": [
    "# baad/\n",
    "# adjacency matrix\n",
    "\n",
    "df_BAAD = pd.read_csv(\"baad/BAAD_1M.csv\").rename(columns={\"Unnamed: 0\": \"node\"}).set_index(\"node\")\n",
    "assert df_BAAD.shape[0] == df_BAAD.shape[1]\n",
    "g_BAAD = nx.from_pandas_adjacency(df_BAAD)\n",
    "nx.write_gml(g_BAAD, \"BAAD.gml\")"
   ]
  },
  {
   "cell_type": "code",
   "execution_count": 8,
   "id": "d111cb72",
   "metadata": {},
   "outputs": [],
   "source": [
    "# # hamburg/\n",
    "\n",
    "# # 各年累積\n",
    "# df_HAMBURG_TIE_YEAR = pd.read_csv(\"hamburg/HAMBURG_TIE_YEAR.csv\").rename(columns={\"Unnamed: 0\": \"node\"})\n",
    "\n",
    "# # df_HAMBURG_TIE_YEAR[\"node\"] = df_HAMBURG_TIE_YEAR[\"node\"].astype(str)\n",
    "# df_HAMBURG_TIE_YEAR = df_HAMBURG_TIE_YEAR.set_index(\"node\")\n",
    "\n",
    "# # assert df_HAMBURG_TIE_YEAR.shape[0] == df_HAMBURG_TIE_YEAR.shape[1]\n",
    "# # g_HAMBURG_TIE_YEAR = nx.from_pandas_adjacency(df_HAMBURG_TIE_YEAR)\n",
    "\n",
    "# df_HAMBURG_TIE_YEAR[df_HAMBURG_TIE_YEAR!=0] = 1\n",
    "\n",
    "# df = pd.read_csv(\"hamburg/HAMBURG_2005_1.csv\").rename(columns={\"Unnamed: 0\": \"node\"}).set_index(\"node\")\n",
    "# for f in os.listdir(\"hamburg/\"):\n",
    "#     if f != 'HAMBURG_TIE_EXTINGUISH.csv' and f != 'HAMBURG_TIE_YEAR.csv' and f != \"HAMBURG_2005_1.csv\":\n",
    "#         tmp_df = pd.read_csv(f\"hamburg/{f}\").rename(columns={\"Unnamed: 0\": \"node\"}).set_index(\"node\")\n",
    "#         df = df.add(tmp_df)\n",
    "        \n",
    "# df[df != 0] = 1"
   ]
  },
  {
   "cell_type": "code",
   "execution_count": 9,
   "id": "413664de",
   "metadata": {},
   "outputs": [],
   "source": [
    "# italiangangs/\n",
    "df_ITALIAN_GANGS = pd.read_csv(\"italiangangs/ITALIAN_GANGS.csv\").rename(columns={\"Unnamed: 0\": \"node\"}).set_index(\"node\")\n",
    "assert df_ITALIAN_GANGS.shape[0] == df_ITALIAN_GANGS.shape[1]\n",
    "g_ITALIAN_GANGS = nx.from_pandas_adjacency(df_ITALIAN_GANGS)\n",
    "\n",
    "nx.write_gml(g_ITALIAN_GANGS, \"ITALIAN_GANGS.gml\")"
   ]
  },
  {
   "cell_type": "code",
   "execution_count": 10,
   "id": "2adccd7c",
   "metadata": {},
   "outputs": [],
   "source": [
    "# paulrevere/\n",
    "df_PREVERE1MODE = pd.read_csv(\"paulrevere/PREVERE1MODE.csv\").rename(columns={\"Unnamed: 0\": \"node\"}).set_index(\"node\")\n",
    "\n",
    "assert df_PREVERE1MODE.shape[0] == df_PREVERE1MODE.shape[1]\n",
    "g_PREVERE1MODE = nx.from_pandas_adjacency(df_PREVERE1MODE)\n",
    "nx.write_gml(g_PREVERE1MODE, \"PREVERE1MODE.gml\")"
   ]
  },
  {
   "cell_type": "code",
   "execution_count": 11,
   "id": "2cfa586f",
   "metadata": {},
   "outputs": [],
   "source": [
    "# rhodes/\n",
    "df_RHODESBOMBING = pd.read_csv(\"rhodes/RHODESBOMBING.csv\").rename(columns={\"Unnamed: 0\": \"node\"}).set_index(\"node\")\n",
    "\n",
    "assert df_RHODESBOMBING.shape[0] == df_RHODESBOMBING.shape[1]\n",
    "g_RHODESBOMBING = nx.from_pandas_adjacency(df_RHODESBOMBING)\n",
    "nx.write_gml(g_RHODESBOMBING, \"RHODESBOMBING.gml\")"
   ]
  },
  {
   "cell_type": "code",
   "execution_count": 13,
   "id": "8468fe59",
   "metadata": {},
   "outputs": [],
   "source": [
    "# suicide/\n",
    "df = pd.DataFrame()\n",
    "for f in os.listdir(\"suicide/\"):\n",
    "    tmp_df = pd.read_csv(f\"suicide/{f}\").rename(columns={\"Unnamed: 0\": \"node\"}).set_index(\"node\")\n",
    "    tmp_df = tmp_df.stack().reset_index().rename(columns={\"node\": \"source\", \"level_1\": \"target\", 0: \"value\"})\n",
    "    tmp_df = tmp_df[tmp_df[\"value\"]!=0]\n",
    "    df = pd.concat([df, tmp_df])\n",
    "\n",
    "df_suicide = df.groupby([\"source\", \"target\"]).agg({\"value\": lambda x : np.sum(x)}).reset_index()\n",
    "g_suicide = nx.from_pandas_edgelist(df_suicide, source='source', target='target', edge_attr='value')\n",
    "nx.write_gml(g_suicide, \"suicide.gml\")"
   ]
  },
  {
   "cell_type": "markdown",
   "id": "b755474d",
   "metadata": {},
   "source": [
    "## Summary"
   ]
  },
  {
   "cell_type": "code",
   "execution_count": null,
   "id": "166ad28e",
   "metadata": {},
   "outputs": [],
   "source": [
    "diles = [f for f in os.listdir(\"\") if filename.endswith(\".csv\")]"
   ]
  },
  {
   "cell_type": "code",
   "execution_count": null,
   "id": "d177e3a0",
   "metadata": {},
   "outputs": [],
   "source": []
  }
 ],
 "metadata": {
  "kernelspec": {
   "display_name": "Python 3 (ipykernel)",
   "language": "python",
   "name": "python3"
  },
  "language_info": {
   "codemirror_mode": {
    "name": "ipython",
    "version": 3
   },
   "file_extension": ".py",
   "mimetype": "text/x-python",
   "name": "python",
   "nbconvert_exporter": "python",
   "pygments_lexer": "ipython3",
   "version": "3.10.9"
  }
 },
 "nbformat": 4,
 "nbformat_minor": 5
}
