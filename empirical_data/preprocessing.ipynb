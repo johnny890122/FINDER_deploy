{
 "cells": [
  {
   "cell_type": "code",
   "execution_count": 103,
   "id": "c0e2aa02",
   "metadata": {},
   "outputs": [],
   "source": [
    "import networkx as nx\n",
    "import pandas as pd\n",
    "import numpy as np\n",
    "import os\n",
    "import xml.etree.ElementTree as ET"
   ]
  },
  {
   "cell_type": "code",
   "execution_count": 105,
   "id": "e05e7a5c",
   "metadata": {
    "scrolled": false
   },
   "outputs": [],
   "source": [
    "# Load XML data from a file\n",
    "# edgelist data\n",
    "\n",
    "tree = ET.parse(\"9_11_hijackers.xml\")\n",
    "root = tree.getroot()\n",
    "\n",
    "nodes = [\"Hamza Alghamdi\", \"Ahmed Alghamdi\", \"Mohand Alshehri*\", \"Fayez Ahmed\", \n",
    "\"Ahmed Alnami\", \"Saeed Alghamdi*\", \"Ziad Jarrah\", \"Marwan Al-Shehhi\", \n",
    "\"Salem Alhazmi*\", \"Nawaf Alhazmi\", \"Khalid Al-Mihdhar\", \"Hani Hanjour\", \n",
    "\"Majed Moqed\", \"Mohamed Atta\",  \"Abdul Aziz Al-Omari*\", \"Ahmed Al Haznawi\",\n",
    "\"Waleed Alshehri\", \"Satam Suqami\", \"Wail Alshehri\"]\n",
    "\n",
    "source_lst, target_lst = [], []      \n",
    "for element in root.iter():\n",
    "    if element.tag == \"link\" and element.attrib['source'] in nodes and element.attrib['target'] in nodes:\n",
    "        source_lst.append(element.attrib['source'])\n",
    "        target_lst.append(element.attrib[\"target\"])\n",
    "        \n",
    "df_911 = pd.DataFrame({\"source\": source_lst, \"target\": target_lst})\n",
    "df_911 = df_911[df_911[\"source\"]!= df_911[\"target\"]]\n",
    "g_911 = nx.from_pandas_edgelist(df_911, source='source', target='target')\n",
    "g_911 = g_911.subgraph(max(nx.connected_components(g_911), key=len))\n",
    "\n",
    "nx.write_gml(g_911, \"911.gml\")"
   ]
  },
  {
   "cell_type": "code",
   "execution_count": 106,
   "id": "29f076f6",
   "metadata": {},
   "outputs": [],
   "source": [
    "# DOMESTICTERRORWEB.csv\n",
    "# adjacency matrix\n",
    "df_DOMESTICTERRORWEB = pd.read_csv(\"DOMESTICTERRORWEB.csv\").rename(columns={\"Unnamed: 0\": \"node\"}).set_index(\"node\")\n",
    "np.fill_diagonal(df_DOMESTICTERRORWEB.values, 0)\n",
    "assert df_DOMESTICTERRORWEB.shape[0] == df_DOMESTICTERRORWEB.shape[1]\n",
    "g_DOMESTICTERRORWEB = nx.from_pandas_adjacency(df_DOMESTICTERRORWEB)\n",
    "\n",
    "g_DOMESTICTERRORWEB = g_DOMESTICTERRORWEB.subgraph(max(nx.connected_components(g_DOMESTICTERRORWEB), key=len))\n",
    "nx.write_gml(g_DOMESTICTERRORWEB, \"DOMESTICTERRORWEB.gml\")"
   ]
  },
  {
   "cell_type": "code",
   "execution_count": 107,
   "id": "03d026fd",
   "metadata": {},
   "outputs": [],
   "source": [
    "# HEROIN_DEALING.csv\n",
    "# adjacency matrix\n",
    "\n",
    "df_HEROIN_DEALING = pd.read_csv(\"HEROIN_DEALING.csv\").rename(columns={\"Unnamed: 0\": \"node\"}).set_index(\"node\")\n",
    "np.fill_diagonal(df_HEROIN_DEALING.values, 0)\n",
    "\n",
    "assert df_HEROIN_DEALING.shape[0] == df_HEROIN_DEALING.shape[1]\n",
    "\n",
    "g_HEROIN_DEALING = nx.from_pandas_adjacency(df_HEROIN_DEALING)\n",
    "g_HEROIN_DEALING = g_HEROIN_DEALING.subgraph(max(nx.connected_components(g_HEROIN_DEALING), key=len))\n",
    "nx.write_gml(g_HEROIN_DEALING, \"HEROIN_DEALING.gml\")"
   ]
  },
  {
   "cell_type": "code",
   "execution_count": 108,
   "id": "d42e2acd",
   "metadata": {},
   "outputs": [],
   "source": [
    "# MALI.csv\n",
    "# adjacency matrix\n",
    "\n",
    "df_MAIL = pd.read_csv(\"MALI.csv\").rename(columns={\"Unnamed: 0\": \"node\"}).set_index(\"node\")\n",
    "np.fill_diagonal(df_MAIL.values, 0)\n",
    "\n",
    "assert df_MAIL.shape[0] == df_MAIL.shape[1]\n",
    "g_MAIL = nx.from_pandas_adjacency(df_MAIL)\n",
    "g_MAIL = g_MAIL.subgraph(max(nx.connected_components(g_MAIL), key=len))\n",
    "nx.write_gml(g_MAIL, \"MAIL.gml\")"
   ]
  },
  {
   "cell_type": "code",
   "execution_count": 109,
   "id": "cc1a5e78",
   "metadata": {},
   "outputs": [],
   "source": [
    "# NDRANGHETAMAFIA_2M.csv\n",
    "# adjacency matrix\n",
    "df_NDRANGHETAMAFIA_2M = pd.read_csv(\"NDRANGHETAMAFIA_2M.csv\").rename(columns={\"Unnamed: 0\": \"node\"}).set_index(\"node\")\n",
    "df_NDRANGHETAMAFIA_2M = df_NDRANGHETAMAFIA_2M.dot(df_NDRANGHETAMAFIA_2M.T)\n",
    "df_NDRANGHETAMAFIA_2M[df_NDRANGHETAMAFIA_2M != 0] = 1\n",
    "np.fill_diagonal(df_NDRANGHETAMAFIA_2M.values, 0)\n",
    "\n",
    "g_NDRANGHETAMAFIA_2M = nx.from_pandas_adjacency(df_NDRANGHETAMAFIA_2M)\n",
    "g_NDRANGHETAMAFIA_2M = g_NDRANGHETAMAFIA_2M.subgraph(max(nx.connected_components(g_NDRANGHETAMAFIA_2M), key=len))\n",
    "nx.write_gml(g_NDRANGHETAMAFIA_2M, \"NDRANGHETAMAFIA_2M.gml\")"
   ]
  },
  {
   "cell_type": "code",
   "execution_count": 110,
   "id": "1003f5f7",
   "metadata": {},
   "outputs": [],
   "source": [
    "# SWINGERS.csv (club only, H columns 後)\n",
    "# adjacency matrix\n",
    "df_SWINGERS_club = pd.read_csv(\"SWINGERS.csv\").rename(columns={\"Unnamed: 0\": \"node\"}).set_index(\"node\")\n",
    "df_SWINGERS_club = df_SWINGERS_club[df_SWINGERS_club.columns[7:]]\n",
    "df_SWINGERS_club = df_SWINGERS_club.dot(df_SWINGERS_club.T)\n",
    "\n",
    "df_SWINGERS_club[df_SWINGERS_club != 0] = 1\n",
    "np.fill_diagonal(df_SWINGERS_club.values, 0)\n",
    "\n",
    "g_SWINGERS_club = nx.from_pandas_adjacency(df_SWINGERS_club)\n",
    "g_SWINGERS_club = g_SWINGERS_club.subgraph(max(nx.connected_components(g_SWINGERS_club), key=len))\n",
    "\n",
    "nx.write_gml(g_SWINGERS_club, \"SWINGERS.gml\")"
   ]
  },
  {
   "cell_type": "code",
   "execution_count": 111,
   "id": "95cd42d6",
   "metadata": {},
   "outputs": [
    {
     "data": {
      "text/plain": [
       "1.0"
      ]
     },
     "execution_count": 111,
     "metadata": {},
     "output_type": "execute_result"
    }
   ],
   "source": [
    "# baad/\n",
    "# adjacency matrix\n",
    "\n",
    "df_BAAD = pd.read_csv(\"baad/BAAD_1M.csv\").rename(columns={\"Unnamed: 0\": \"node\"}).set_index(\"node\")\n",
    "np.fill_diagonal(df_BAAD.values, 0)\n",
    "\n",
    "assert df_BAAD.shape[0] == df_BAAD.shape[1]\n",
    "\n",
    "g_BAAD = nx.from_pandas_adjacency(df_BAAD)\n",
    "g_BAAD = g_BAAD.subgraph(max(nx.connected_components(g_BAAD), key=len))\n",
    "\n",
    "nx.write_gml(g_BAAD, \"BAAD.gml\")\n",
    "nx.density(g_BAAD)"
   ]
  },
  {
   "cell_type": "code",
   "execution_count": 112,
   "id": "bcb027b2",
   "metadata": {},
   "outputs": [],
   "source": [
    "# hamburg/\n",
    "# adjacency matrix\n",
    "df_HAMBURG_TIE_YEAR = pd.read_csv(\"hamburg/HAMBURG_TIE_YEAR.csv\").rename(columns={\"Unnamed: 0\": \"node\"})\n",
    "\n",
    "df_HAMBURG_TIE_YEAR[\"node\"] = df_HAMBURG_TIE_YEAR[\"node\"].astype(str)\n",
    "df_HAMBURG_TIE_YEAR = df_HAMBURG_TIE_YEAR.set_index(\"node\")\n",
    "\n",
    "assert df_HAMBURG_TIE_YEAR.shape[0] == df_HAMBURG_TIE_YEAR.shape[1]\n",
    "np.fill_diagonal(df_HAMBURG_TIE_YEAR.values, 0)\n",
    "\n",
    "g_HAMBURG_TIE_YEAR = nx.from_pandas_adjacency(df_HAMBURG_TIE_YEAR)\n",
    "g_HAMBURG_TIE_YEAR = g_HAMBURG_TIE_YEAR.subgraph(max(nx.connected_components(g_HAMBURG_TIE_YEAR), key=len))\n",
    "\n",
    "nx.write_gml(g_HAMBURG_TIE_YEAR, \"HAMBURG_TIE_YEAR.gml\")"
   ]
  },
  {
   "cell_type": "code",
   "execution_count": 113,
   "id": "e352f9bc",
   "metadata": {},
   "outputs": [],
   "source": [
    "# italiangangs/\n",
    "# adjacency matrix\n",
    "\n",
    "df_ITALIAN_GANGS = pd.read_csv(\"italiangangs/ITALIAN_GANGS.csv\").rename(columns={\"Unnamed: 0\": \"node\"}).set_index(\"node\")\n",
    "np.fill_diagonal(df_ITALIAN_GANGS.values, 0)\n",
    "\n",
    "assert df_ITALIAN_GANGS.shape[0] == df_ITALIAN_GANGS.shape[1]\n",
    "g_ITALIAN_GANGS = nx.from_pandas_adjacency(df_ITALIAN_GANGS)\n",
    "g_ITALIAN_GANGS = g_ITALIAN_GANGS.subgraph(max(nx.connected_components(g_ITALIAN_GANGS), key=len))\n",
    "\n",
    "\n",
    "nx.write_gml(g_ITALIAN_GANGS, \"ITALIAN_GANGS.gml\")"
   ]
  },
  {
   "cell_type": "code",
   "execution_count": 114,
   "id": "f2f0a8f6",
   "metadata": {},
   "outputs": [],
   "source": [
    "# paulrevere/\n",
    "# adjacency matrix\n",
    "df_PREVERE1MODE = pd.read_csv(\"paulrevere/PREVERE1MODE.csv\").rename(columns={\"Unnamed: 0\": \"node\"}).set_index(\"node\")\n",
    "np.fill_diagonal(df_PREVERE1MODE.values, 0)\n",
    "\n",
    "assert df_PREVERE1MODE.shape[0] == df_PREVERE1MODE.shape[1]\n",
    "g_PREVERE1MODE = nx.from_pandas_adjacency(df_PREVERE1MODE)\n",
    "g_PREVERE1MODE = g_PREVERE1MODE.subgraph(max(nx.connected_components(g_PREVERE1MODE), key=len))\n",
    "\n",
    "nx.write_gml(g_PREVERE1MODE, \"PREVERE1MODE.gml\")"
   ]
  },
  {
   "cell_type": "code",
   "execution_count": 115,
   "id": "3369079c",
   "metadata": {},
   "outputs": [],
   "source": [
    "# rhodes/\n",
    "# adjacency matrix\n",
    "df_RHODESBOMBING = pd.read_csv(\"rhodes/RHODESBOMBING.csv\").rename(columns={\"Unnamed: 0\": \"node\"}).set_index(\"node\")\n",
    "np.fill_diagonal(df_RHODESBOMBING.values, 0)\n",
    "\n",
    "assert df_RHODESBOMBING.shape[0] == df_RHODESBOMBING.shape[1]\n",
    "g_RHODESBOMBING = nx.from_pandas_adjacency(df_RHODESBOMBING)\n",
    "g_RHODESBOMBING = g_RHODESBOMBING.subgraph(max(nx.connected_components(g_RHODESBOMBING), key=len))\n",
    "\n",
    "nx.write_gml(g_RHODESBOMBING, \"RHODESBOMBING.gml\")"
   ]
  },
  {
   "cell_type": "code",
   "execution_count": 116,
   "id": "0662f235",
   "metadata": {},
   "outputs": [],
   "source": [
    "# suicide/\n",
    "# edgelist data\n",
    "\n",
    "df = pd.DataFrame()\n",
    "df_lst = []\n",
    "for f in os.listdir(\"suicide/\"):\n",
    "    tmp_df = pd.read_csv(f\"suicide/{f}\").rename(columns={\"Unnamed: 0\": \"node\"}).set_index(\"node\")\n",
    "    tmp_df = tmp_df.stack().reset_index().rename(columns={\"node\": \"source\", \"level_1\": \"target\", 0: \"value\"})\n",
    "    tmp_df = tmp_df[tmp_df[\"value\"]!=0]\n",
    "    df_lst.append(tmp_df)\n",
    "\n",
    "df = pd.concat(df_lst)\n",
    "df_suicide = df.groupby([\"source\", \"target\"]).agg({\"value\": lambda x : np.sum(x)}).reset_index()\n",
    "df_suicide = df_suicide[df_suicide[\"source\"]!= df_suicide[\"target\"]]\n",
    "\n",
    "g_suicide = nx.from_pandas_edgelist(df_suicide, source='source', target='target', edge_attr='value')\n",
    "g_suicide = g_suicide.subgraph(max(nx.connected_components(g_suicide), key=len))\n",
    "nx.write_gml(g_suicide, \"suicide.gml\")"
   ]
  },
  {
   "cell_type": "markdown",
   "id": "1c176d3e",
   "metadata": {},
   "source": [
    "## Summary"
   ]
  },
  {
   "cell_type": "code",
   "execution_count": 117,
   "id": "136cf36e",
   "metadata": {},
   "outputs": [
    {
     "name": "stdout",
     "output_type": "stream",
     "text": [
      "DOMESTICTERRORWEB.gml\n",
      "number of nodes: 32\n",
      "number of edges: 49\n",
      "density: 0.09879\n",
      "GCC size: 32\n",
      "==============================\n",
      "PREVERE1MODE.gml\n",
      "number of nodes: 254\n",
      "number of edges: 10221\n",
      "density: 0.31810\n",
      "GCC size: 254\n",
      "==============================\n",
      "MAIL.gml\n",
      "number of nodes: 36\n",
      "number of edges: 67\n",
      "density: 0.10635\n",
      "GCC size: 36\n",
      "==============================\n",
      "HEROIN_DEALING.gml\n",
      "number of nodes: 38\n",
      "number of edges: 87\n",
      "density: 0.12376\n",
      "GCC size: 38\n",
      "==============================\n",
      "suicide.gml\n",
      "number of nodes: 48\n",
      "number of edges: 103\n",
      "density: 0.09131\n",
      "GCC size: 48\n",
      "==============================\n",
      "SWINGERS.gml\n",
      "number of nodes: 42\n",
      "number of edges: 187\n",
      "density: 0.21719\n",
      "GCC size: 42\n",
      "==============================\n",
      "BAAD.gml\n",
      "number of nodes: 72\n",
      "number of edges: 2556\n",
      "density: 1.00000\n",
      "GCC size: 72\n",
      "==============================\n",
      "911.gml\n",
      "number of nodes: 19\n",
      "number of edges: 27\n",
      "density: 0.15789\n",
      "GCC size: 19\n",
      "==============================\n",
      "NDRANGHETAMAFIA_2M.gml\n",
      "number of nodes: 151\n",
      "number of edges: 1619\n",
      "density: 0.14296\n",
      "GCC size: 151\n",
      "==============================\n",
      "ITALIAN_GANGS.gml\n",
      "number of nodes: 65\n",
      "number of edges: 113\n",
      "density: 0.05433\n",
      "GCC size: 65\n",
      "==============================\n",
      "HAMBURG_TIE_YEAR.gml\n",
      "number of nodes: 32\n",
      "number of edges: 121\n",
      "density: 0.24395\n",
      "GCC size: 32\n",
      "==============================\n",
      "RHODESBOMBING.gml\n",
      "number of nodes: 22\n",
      "number of edges: 66\n",
      "density: 0.28571\n",
      "GCC size: 22\n",
      "==============================\n"
     ]
    }
   ],
   "source": [
    "files = [f for f in os.listdir(\"./\") if f.endswith(\".gml\")]\n",
    "for f in files:\n",
    "    G = nx.read_gml(f)\n",
    "    print(f)\n",
    "    print(\"number of nodes:\", G.number_of_nodes())\n",
    "    print(\"number of edges:\", G.number_of_edges())\n",
    "    print(\"density: {:.5f}\".format(nx.density(G)))\n",
    "    print(\"GCC size:\", len(max(list(nx.connected_components(G)), key=len)))\n",
    "    print(\"=\"*30)"
   ]
  },
  {
   "cell_type": "code",
   "execution_count": null,
   "id": "c3aff745",
   "metadata": {},
   "outputs": [],
   "source": []
  },
  {
   "cell_type": "code",
   "execution_count": null,
   "id": "varying-bunny",
   "metadata": {},
   "outputs": [],
   "source": []
  }
 ],
 "metadata": {
  "kernelspec": {
   "display_name": "Python 3",
   "language": "python",
   "name": "python3"
  },
  "language_info": {
   "codemirror_mode": {
    "name": "ipython",
    "version": 3
   },
   "file_extension": ".py",
   "mimetype": "text/x-python",
   "name": "python",
   "nbconvert_exporter": "python",
   "pygments_lexer": "ipython3",
   "version": "3.8.5"
  }
 },
 "nbformat": 4,
 "nbformat_minor": 5
}
