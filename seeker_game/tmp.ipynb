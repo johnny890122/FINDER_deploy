{
 "cells": [
  {
   "cell_type": "code",
   "execution_count": 20,
   "metadata": {},
   "outputs": [
    {
     "name": "stdout",
     "output_type": "stream",
     "text": [
      "Color at 0.7 percentile: #2D7DBB\n"
     ]
    },
    {
     "data": {
      "image/png": "[encoded data removed]",
      "text/plain": [
       "<Figure size 600x100 with 1 Axes>"
      ]
     },
     "metadata": {},
     "output_type": "display_data"
    }
   ],
   "source": [
    "import matplotlib.pyplot as plt\n",
    "import numpy as np\n",
    "from matplotlib.colors import LinearSegmentedColormap\n",
    "\n",
    "# Create a sequential blues colormap\n",
    "cmap = plt.cm.get_cmap('Blues')\n",
    "\n",
    "# Generate an array of values from 0 to 1\n",
    "percentiles = np.linspace(0, 1, 101)  # 101 points for 0% to 100%\n",
    "\n",
    "# Get the colors at the specified percentiles\n",
    "colors = [cmap(p) for p in percentiles]\n",
    "\n",
    "# Specify the percentile you're interested in\n",
    "desired_percentile = 0.7\n",
    "\n",
    "# Get the color code at the desired percentile\n",
    "color_at_percentile = cmap(desired_percentile)\n",
    "\n",
    "# Convert the color to its hexadecimal representation\n",
    "hex_color = \"#{:02X}{:02X}{:02X}\".format(\n",
    "    int(color_at_percentile[0] * 255),\n",
    "    int(color_at_percentile[1] * 255),\n",
    "    int(color_at_percentile[2] * 255)\n",
    ")\n",
    "\n",
    "print(\"Color at {} percentile: {}\".format(desired_percentile, hex_color))\n",
    "\n",
    "# Plot the colormap\n",
    "gradient = np.linspace(0, 1, 256).reshape(1, -1)\n",
    "gradient = np.vstack((gradient, gradient))\n",
    "\n",
    "fig, ax = plt.subplots(figsize=(6, 1))\n",
    "ax.set_title(\"Sequential Blues Gradient\")\n",
    "ax.imshow(gradient, aspect='auto', cmap=cmap)\n",
    "ax.set_axis_off()\n",
    "\n",
    "plt.show()"
   ]
  },
  {
   "cell_type": "code",
   "execution_count": 24,
   "metadata": {},
   "outputs": [
    {
     "data": {
      "text/plain": [
       "(0.03137254901960784, 0.2897347174163783, 0.570319108035371, 1.0)"
      ]
     },
     "execution_count": 24,
     "metadata": {},
     "output_type": "execute_result"
    }
   ],
   "source": [
    "cmap = plt.cm.get_cmap('Blues')\n",
    "color_at_percentile = cmap(0.9)\n",
    "color_at_percentile"
   ]
  },
  {
   "cell_type": "code",
   "execution_count": 1,
   "metadata": {},
   "outputs": [],
   "source": [
    "import networkx as nx"
   ]
  },
  {
   "cell_type": "code",
   "execution_count": 9,
   "metadata": {},
   "outputs": [
    {
     "name": "stdout",
     "output_type": "stream",
     "text": [
      "[(0, 9), (6, 7), (7, 7), (8, 6), (9, 5), (1, 4), (2, 4), (3, 4), (4, 3), (5, 1)]\n",
      "[(0, 1), (6, 2), (7, 2), (8, 3), (9, 4), (1, 5), (2, 5), (3, 5), (4, 6), (5, 7)]\n"
     ]
    }
   ],
   "source": [
    "G = nx.barabasi_albert_graph(10, 5)\n",
    "degree, closeness, betweenness, pagerank = [], [], [], []\n",
    "for node in G_nodes(G):\n",
    "    degree.append((node[\"id\"], node[\"degree\"]))\n",
    "    \n",
    "degree = sorted(degree, key=lambda x: x[1], reverse=True)\n",
    "print(degree)\n",
    "rank = 1\n",
    "now_score = degree[0][1]\n",
    "for idx, (node, score) in enumerate(degree): \n",
    "    if now_score > score:\n",
    "        now_score = score\n",
    "        rank += 1\n",
    "    degree[idx] = (node, rank)\n",
    "\n",
    "print(degree)\n"
   ]
  },
  {
   "cell_type": "code",
   "execution_count": null,
   "metadata": {},
   "outputs": [],
   "source": []
  },
  {
   "cell_type": "code",
   "execution_count": 70,
   "metadata": {},
   "outputs": [
    {
     "name": "stdout",
     "output_type": "stream",
     "text": [
      "0\n",
      "0\n",
      "0\n",
      "1\n",
      "1\n",
      "1\n",
      "2\n",
      "2\n",
      "2\n",
      "3\n",
      "3\n",
      "3\n",
      "4\n",
      "4\n",
      "4\n",
      "5\n",
      "5\n",
      "5\n",
      "6\n"
     ]
    }
   ],
   "source": [
    "for i in range(0, 19):\n",
    "    print(i//(3+1))"
   ]
  },
  {
   "cell_type": "code",
   "execution_count": 52,
   "metadata": {},
   "outputs": [
    {
     "name": "stdout",
     "output_type": "stream",
     "text": [
      "degree [0, 6, 7, 8, 2, 9, 3, 4, 1, 5]\n",
      "closeness [0, 6, 7, 2, 8, 9, 3, 4, 1, 5]\n",
      "betweenness [0, 6, 8, 7, 9, 1, 2, 3, 4, 5]\n",
      "page_rank [0, 6, 7, 8, 2, 9, 3, 4, 1, 5]\n"
     ]
    }
   ],
   "source": [
    "for h_based, nodes in centrality.items():\n",
    "    print(h_based, nodes)"
   ]
  },
  {
   "cell_type": "code",
   "execution_count": 5,
   "metadata": {},
   "outputs": [],
   "source": [
    "def G_nodes(G):\n",
    "\n",
    "    degree = {node: degree for (node, degree) in G.degree()}\n",
    "    closeness = {node: closeness for (node, closeness) in nx.closeness_centrality(G).items()}\n",
    "    betweenness = {node: betweenness for (node, betweenness) in nx.betweenness_centrality(G).items()}\n",
    "    pagerank = {node: pagerank for (node, pagerank) in nx.pagerank(G).items()}\n",
    "\n",
    "    nodes = []\n",
    "    for n in list(G.nodes()):\n",
    "        nodes.append({\n",
    "            \"id\": n, \"degree\": round(degree[n], 2), \"closeness\": round(closeness[n], 2), \"betweenness\": round(betweenness[n], 2), \"pagerank\": round(pagerank[n], 2), \"display\": \"True\",\n",
    "        })\n",
    "\n",
    "    # add a pesudo node as center node\n",
    "    if len(list(nx.connected_components(G))) > 1:\n",
    "        nodes.append({\n",
    "            \"id\": -1, \"degree\": -1, \"closeness\": -1, \"betweenness\": -1, \"pagerank\": -1, \"display\": \"False\"\n",
    "        })\n",
    "\n",
    "    return nodes"
   ]
  },
  {
   "cell_type": "code",
   "execution_count": null,
   "metadata": {},
   "outputs": [],
   "source": []
  }
 ],
 "metadata": {
  "kernelspec": {
   "display_name": "Python 3",
   "language": "python",
   "name": "python3"
  },
  "language_info": {
   "codemirror_mode": {
    "name": "ipython",
    "version": 3
   },
   "file_extension": ".py",
   "mimetype": "text/x-python",
   "name": "python",
   "nbconvert_exporter": "python",
   "pygments_lexer": "ipython3",
   "version": "3.7.4"
  },
  "orig_nbformat": 4
 },
 "nbformat": 4,
 "nbformat_minor": 2
}
