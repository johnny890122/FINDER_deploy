{
 "cells": [
  {
   "cell_type": "markdown",
   "id": "aware-sellers",
   "metadata": {},
   "source": [
    "# Imprt package"
   ]
  },
  {
   "cell_type": "code",
   "execution_count": 4,
   "id": "rocky-friend",
   "metadata": {},
   "outputs": [],
   "source": [
    "import networkx as nx\n",
    "import matplotlib.pyplot as plt\n",
    "from typing import Type\n",
    "from simulator import CovertGenerator, DarkGenerator\n",
    "import numpy as np\n",
    "import pandas as pd\n",
    "import json\n",
    "from tqdm import trange\n",
    "import matplotlib.pyplot as plt"
   ]
  },
  {
   "cell_type": "markdown",
   "id": "several-joining",
   "metadata": {},
   "source": [
    "# Graph generator"
   ]
  },
  {
   "cell_type": "code",
   "execution_count": 5,
   "id": "persistent-shirt",
   "metadata": {},
   "outputs": [],
   "source": [
    "def star_genertor(n=20) -> Type[nx.classes.graph.Graph]:\n",
    "    return nx.star_graph(n)\n",
    "\n",
    "def complete_genertor(n=20) -> Type[nx.classes.graph.Graph]:\n",
    "    return nx.complete_graph(n)\n",
    "\n",
    "def ba_generator(n=20, m: int=2) -> Type[nx.classes.graph.Graph]:\n",
    "    return nx.barabasi_albert_graph(n ,m)\n",
    "\n",
    "def covert_generator(m=20, density: int=0.1):\n",
    "    generator = CovertGenerator(min_n, max_n, density)\n",
    "    generator.simulate()\n",
    "    return generator.G\n",
    "\n",
    "def dark_generator(min_n: int=20, max_n: int=30, density: int=0.1):\n",
    "    generator = DarkGenerator(min_n, max_n, density)\n",
    "    generator.simulate()\n",
    "    return generator.G\n",
    "\n",
    "def write_gml(G: Type[nx.classes.graph.Graph], data_dir: str, file_name: str) -> None:\n",
    "    nx.write_gml(G, data_dir+file_name)"
   ]
  },
  {
   "cell_type": "markdown",
   "id": "communist-dividend",
   "metadata": {},
   "source": [
    "# BA Graph"
   ]
  },
  {
   "cell_type": "code",
   "execution_count": 7,
   "id": "complete-prison",
   "metadata": {},
   "outputs": [],
   "source": [
    "iters = 100\n",
    "for i in range(iters):\n",
    "    G = ba_generator(n=200, m=1)\n",
    "    write_gml(G, data_dir=\"./ba/\", file_name=f\"g_{i}\")"
   ]
  },
  {
   "cell_type": "markdown",
   "id": "bearing-active",
   "metadata": {},
   "source": [
    "# Covert Graph"
   ]
  },
  {
   "cell_type": "code",
   "execution_count": null,
   "id": "capital-principal",
   "metadata": {},
   "outputs": [],
   "source": [
    "# iters = 100\n",
    "# for i in range(iters):\n",
    "#     G = dark_generator(min_n=200, max_n=200, density=0.01)\n",
    "#     write_gml(G, data_dir=\"./dark/\", file_name=f\"g_{i}\")"
   ]
  },
  {
   "cell_type": "markdown",
   "id": "intense-psychiatry",
   "metadata": {},
   "source": [
    "# Dark Graph"
   ]
  },
  {
   "cell_type": "code",
   "execution_count": null,
   "id": "changing-flight",
   "metadata": {},
   "outputs": [],
   "source": [
    "# iters = 100\n",
    "# for i in range(iters): \n",
    "#     G = covert_generator(min_n=200, max_n=200, density=0.01)\n",
    "#     write_gml(G, data_dir=\"./covert/\", file_name=f\"g_{i}\")"
   ]
  }
 ],
 "metadata": {
  "kernelspec": {
   "display_name": "Python 3",
   "language": "python",
   "name": "python3"
  },
  "language_info": {
   "codemirror_mode": {
    "name": "ipython",
    "version": 3
   },
   "file_extension": ".py",
   "mimetype": "text/x-python",
   "name": "python",
   "nbconvert_exporter": "python",
   "pygments_lexer": "ipython3",
   "version": "3.8.5"
  }
 },
 "nbformat": 4,
 "nbformat_minor": 5
}
