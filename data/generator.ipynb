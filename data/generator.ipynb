{
 "cells": [
  {
   "cell_type": "markdown",
   "id": "aware-sellers",
   "metadata": {},
   "source": [
    "# Imprt package"
   ]
  },
  {
   "cell_type": "code",
   "execution_count": 5,
   "id": "rocky-friend",
   "metadata": {},
   "outputs": [],
   "source": [
    "import networkx as nx\n",
    "# import matplotlib.pyplot as plt\n",
    "from typing import Type\n",
    "# from simulator import CovertGenerator, DarkGenerator\n",
    "import numpy as np\n",
    "import pandas as pd\n",
    "import json\n",
    "from tqdm import trange\n",
    "\n",
    "from utility import star_genertor, complete_genertor, ba_generator, covert_generator, dark_generator, write_gml"
   ]
  },
  {
   "cell_type": "markdown",
   "id": "communist-dividend",
   "metadata": {},
   "source": [
    "# BA Graph"
   ]
  },
  {
   "cell_type": "code",
   "execution_count": 6,
   "id": "complete-prison",
   "metadata": {},
   "outputs": [],
   "source": [
    "iters = 100\n",
    "for i in range(iters):\n",
    "    G = ba_generator(n=200, m=1)\n",
    "    write_gml(G, data_dir=\"./ba/\", file_name=f\"g_{i}\")"
   ]
  },
  {
   "cell_type": "markdown",
   "id": "bearing-active",
   "metadata": {},
   "source": [
    "# Covert Graph"
   ]
  },
  {
   "cell_type": "code",
   "execution_count": 16,
   "id": "capital-principal",
   "metadata": {},
   "outputs": [],
   "source": [
    "# iters = 100\n",
    "# for i in range(iters): \n",
    "#     G = covert_generator(min_n=200, max_n=200, density=0.01)\n",
    "#     write_gml(G, data_dir=\"./covert/\", file_name=f\"g_{i}\")"
   ]
  },
  {
   "cell_type": "markdown",
   "id": "intense-psychiatry",
   "metadata": {},
   "source": [
    "# Dark Graph"
   ]
  },
  {
   "cell_type": "code",
   "execution_count": 24,
   "id": "changing-flight",
   "metadata": {},
   "outputs": [],
   "source": [
    "# iters = 100\n",
    "# for i in range(iters):\n",
    "#     G = dark_generator(min_n=200, max_n=200, density=0.01)\n",
    "#     write_gml(G, data_dir=\"./dark/\", file_name=f\"g_{i}\")"
   ]
  }
 ],
 "metadata": {
  "kernelspec": {
   "display_name": "Python 3",
   "language": "python",
   "name": "python3"
  },
  "language_info": {
   "codemirror_mode": {
    "name": "ipython",
    "version": 3
   },
   "file_extension": ".py",
   "mimetype": "text/x-python",
   "name": "python",
   "nbconvert_exporter": "python",
   "pygments_lexer": "ipython3",
   "version": "3.7.17"
  }
 },
 "nbformat": 4,
 "nbformat_minor": 5
}
