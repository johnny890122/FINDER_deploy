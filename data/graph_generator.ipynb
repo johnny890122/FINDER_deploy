{
 "cells": [
  {
   "cell_type": "code",
   "execution_count": 1,
   "id": "joint-hardware",
   "metadata": {},
   "outputs": [
    {
     "name": "stderr",
     "output_type": "stream",
     "text": [
      "/usr/local/lib/python3.8/site-packages/scipy/__init__.py:143: UserWarning: A NumPy version >=1.19.5 and <1.27.0 is required for this version of SciPy (detected version 1.17.3)\n",
      "  warnings.warn(f\"A NumPy version >={np_minversion} and <{np_maxversion}\"\n"
     ]
    }
   ],
   "source": [
    "import networkx as nx\n",
    "import matplotlib.pyplot as plt\n",
    "from typing import Type\n",
    "from simulator import CovertGenerator, DarkGenerator\n",
    "import numpy as np\n",
    "import pandas as pd"
   ]
  },
  {
   "cell_type": "code",
   "execution_count": 9,
   "id": "failing-shell",
   "metadata": {},
   "outputs": [],
   "source": [
    "import json"
   ]
  },
  {
   "cell_type": "markdown",
   "id": "voluntary-johnson",
   "metadata": {},
   "source": [
    "## Generator & Reader"
   ]
  },
  {
   "cell_type": "code",
   "execution_count": 16,
   "id": "higher-arbitration",
   "metadata": {},
   "outputs": [],
   "source": [
    "def ba_generator(min_n: int=20, max_n: int=30, m: int=2) -> Type[nx.classes.graph.Graph]:\n",
    "    n = np.random.randint(max_n - min_n + 1) + min_n\n",
    "    return nx.barabasi_albert_graph(n ,m)\n",
    "\n",
    "def covert_generator(min_n: int=20, max_n: int=30, density: int=0.1):\n",
    "    generator = CovertGenerator(min_n, max_n, density)\n",
    "    generator.simulate()\n",
    "    return generator.G\n",
    "\n",
    "def dark_generator(min_n: int=20, max_n: int=30, density: int=0.1):\n",
    "    generator = DarkGenerator(min_n, max_n, density)\n",
    "    generator.simulate()\n",
    "    return generator.G\n",
    "\n",
    "def write_gml(G: Type[nx.classes.graph.Graph], data_dir: str, file_name: str) -> None:\n",
    "    nx.write_gml(G, data_dir+file_name)\n",
    "    \n",
    "def read_gml(data_dir: str, file_name: str) -> Type[nx.classes.graph.Graph]:\n",
    "    G = nx.read_gml(data_dir + file_name)\n",
    "    return nx.relabel_nodes(G, lambda x: int(x))\n",
    "\n",
    "def get_real_graph(data_dir: str, file_name: str) -> Type[nx.classes.graph.Graph]:\n",
    "    return read_gml(data_dir, file_name)\n",
    "\n",
    "def getRobustness(g: Type[nx.classes.graph.Graph], sol: int) -> float:\n",
    "    G = g.copy()\n",
    "    GCCsize = len(max(nx.connected_components(G), key=len))\n",
    "    G.remove_node(sol)\n",
    "    newGCCsize = len(max(nx.connected_components(G), key=len))\n",
    "\n",
    "    return (GCCsize - newGCCsize) / ((G.number_of_nodes() * G.number_of_nodes()))"
   ]
  },
  {
   "cell_type": "code",
   "execution_count": 18,
   "id": "expensive-oxide",
   "metadata": {},
   "outputs": [],
   "source": [
    "def HXA(g: Type[nx.classes.graph.Graph], method: str) -> (list, list):\n",
    "    # 'HDA', 'HBA', 'HCA', 'HPRA'\n",
    "    sol = []\n",
    "    reward = []\n",
    "    G = g.copy()\n",
    "    while (nx.number_of_edges(G)>0):\n",
    "        if method == 'HDA':\n",
    "            dc = nx.degree_centrality(G)\n",
    "        elif method == 'HBA':\n",
    "            dc = nx.betweenness_centrality(G)\n",
    "        elif method == 'HCA':\n",
    "            dc = nx.closeness_centrality(G)\n",
    "        elif method == 'HPRA':\n",
    "            dc = nx.pagerank(G)\n",
    "        keys = list(dc.keys())\n",
    "        values = list(dc.values())\n",
    "        maxTag = np.argmax(values)\n",
    "        node = keys[maxTag]\n",
    "        \n",
    "        reward.append(getRobustness(G, int(node)))\n",
    "        \n",
    "        sol.append(int(node))\n",
    "        G.remove_node(node)\n",
    "        \n",
    "    return sol, reward"
   ]
  },
  {
   "cell_type": "code",
   "execution_count": null,
   "id": "focal-burst",
   "metadata": {},
   "outputs": [],
   "source": []
  },
  {
   "cell_type": "markdown",
   "id": "antique-personal",
   "metadata": {},
   "source": [
    "## Covert & Dark "
   ]
  },
  {
   "cell_type": "code",
   "execution_count": 7,
   "id": "changed-integer",
   "metadata": {},
   "outputs": [],
   "source": [
    "iters = 100\n",
    "for i in range(iters):\n",
    "    G = dark_generator(min_n=200, max_n=200, density=0.01)\n",
    "    write_gml(G, data_dir=\"./dark/\", file_name=f\"g_{i}\")"
   ]
  },
  {
   "cell_type": "code",
   "execution_count": 23,
   "id": "sized-durham",
   "metadata": {},
   "outputs": [],
   "source": [
    "# iters = 100\n",
    "# for i in range(iters): \n",
    "#     G = covert_generator(min_n=200, max_n=200, density=0.01)\n",
    "#     write_gml(G, data_dir=\"./covert/\", file_name=f\"g_{i}\")"
   ]
  },
  {
   "cell_type": "markdown",
   "id": "powerful-logan",
   "metadata": {},
   "source": [
    "## Heuristic based"
   ]
  },
  {
   "cell_type": "code",
   "execution_count": 27,
   "id": "damaged-synthetic",
   "metadata": {},
   "outputs": [],
   "source": [
    "for i in range(iters):\n",
    "    hxa_dct = dict()\n",
    "    reward_dct = dict()\n",
    "    g = read_gml(data_dir=\"./dark/\", file_name=f\"g_{i}\")\n",
    "\n",
    "    for method in ['HDA', 'HBA', 'HCA', 'HPRA']:\n",
    "        sol, reward = HXA(g=g, method=method)\n",
    "        hxa_dct[method] = sol\n",
    "        reward_dct[method] = np.cumsum(reward).tolist()\n",
    "\n",
    "    with open(f\"./dark/node_hist/g_{i}.json\", \"w\") as json_file:\n",
    "        json.dump(hxa_dct, json_file) \n",
    "    with open(f\"./dark/reward_hist/g_{i}.json\", \"w\") as json_file:\n",
    "        json.dump(reward_dct, json_file) "
   ]
  },
  {
   "cell_type": "code",
   "execution_count": 10,
   "id": "joined-projector",
   "metadata": {},
   "outputs": [],
   "source": []
  }
 ],
 "metadata": {
  "kernelspec": {
   "display_name": "Python 3",
   "language": "python",
   "name": "python3"
  },
  "language_info": {
   "codemirror_mode": {
    "name": "ipython",
    "version": 3
   },
   "file_extension": ".py",
   "mimetype": "text/x-python",
   "name": "python",
   "nbconvert_exporter": "python",
   "pygments_lexer": "ipython3",
   "version": "3.8.5"
  }
 },
 "nbformat": 4,
 "nbformat_minor": 5
}
