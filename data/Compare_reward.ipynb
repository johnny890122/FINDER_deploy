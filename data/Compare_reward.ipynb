{
 "cells": [
  {
   "cell_type": "code",
   "execution_count": 2,
   "id": "hearing-reminder",
   "metadata": {},
   "outputs": [],
   "source": [
    "# import pandas as pd\n",
    "import json\n",
    "import numpy as np\n",
    "import math\n",
    "import matplotlib.pyplot as plt"
   ]
  },
  {
   "cell_type": "code",
   "execution_count": 17,
   "id": "colored-penny",
   "metadata": {},
   "outputs": [
    {
     "name": "stdout",
     "output_type": "stream",
     "text": [
      "HDA 15.642499999999902 200.0\n",
      "HBA 16.31249999999986 200.0\n",
      "HCA 14.06499999999991 200.0\n",
      "HPRA 16.9299999999999 200.0\n",
      "FINDER 163.11250000000072 200.0\n"
     ]
    }
   ],
   "source": [
    "# Read the JSON file\n",
    "reward_dct = {\n",
    "    \"HDA\": [], \n",
    "    \"HBA\": [], \n",
    "    \"HCA\": [], \n",
    "    \"HPRA\": [], \n",
    "    \"FINDER\": []\n",
    "}\n",
    "len_dct = {\n",
    "    \"HDA\": [], \n",
    "    \"HBA\": [], \n",
    "    \"HCA\": [], \n",
    "    \"HPRA\": [], \n",
    "    \"FINDER\": []\n",
    "}\n",
    "for i in range(10):\n",
    "    with open(f\"./ba/reward_hist/g_{i}.json\", \"r\") as json_file:\n",
    "        data = json.load(json_file)\n",
    "    \n",
    "    for HXA in ['HDA', 'HBA', 'HCA', 'HPRA']:\n",
    "        reward_dct[HXA].append(data[HXA][-1])\n",
    "        len_dct[HXA].append(len(data[HXA]))\n",
    "        \n",
    "\n",
    "    with open(f\"./ba/finder_reward_hist/g_{i}.json\", \"r\") as json_file:\n",
    "        data = json.load(json_file)\n",
    "        reward_dct[\"FINDER\"].append(data[-1])\n",
    "        len_dct[\"FINDER\"].append(len(data))\n",
    "\n",
    "for key in reward_dct.keys():\n",
    "    print(key, np.mean(reward_dct[key])*1000, np.mean(len_dct[key]))"
   ]
  },
  {
   "cell_type": "code",
   "execution_count": 31,
   "id": "empty-popularity",
   "metadata": {},
   "outputs": [],
   "source": [
    "# Paper Formula\n",
    "\n",
    "HDA 47.199999999999996 10\n",
    "HBA 48.75249999999999 10\n",
    "HCA 48.46 10\n",
    "HPRA 46.5325 10\n",
    "\n",
    "HBA > HCA > HDA > HPRA \n",
    "\n",
    "# Code Formula\n",
    "HDA 48.14393025511829 10\n",
    "HBA 48.9937730541858 10\n",
    "HCA 48.79972754424399 10\n",
    "HPRA 47.96234781395515 10\n",
    "\n",
    "HBA > HCA > HDA > HPRA\n",
    "\n",
    "# 要不要移除 no edge 的 node -> No: 因為 FINDER 有可能會選這個點\n",
    "\n",
    "# \n",
    "\n"
   ]
  },
  {
   "cell_type": "code",
   "execution_count": null,
   "id": "parallel-ordinary",
   "metadata": {},
   "outputs": [],
   "source": []
  },
  {
   "cell_type": "code",
   "execution_count": null,
   "id": "absent-harvest",
   "metadata": {},
   "outputs": [],
   "source": []
  }
 ],
 "metadata": {
  "kernelspec": {
   "display_name": "Python 3",
   "language": "python",
   "name": "python3"
  },
  "language_info": {
   "codemirror_mode": {
    "name": "ipython",
    "version": 3
   },
   "file_extension": ".py",
   "mimetype": "text/x-python",
   "name": "python",
   "nbconvert_exporter": "python",
   "pygments_lexer": "ipython3",
   "version": "3.8.5"
  }
 },
 "nbformat": 4,
 "nbformat_minor": 5
}
