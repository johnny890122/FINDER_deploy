{
 "cells": [
  {
   "cell_type": "code",
   "execution_count": 7,
   "id": "retired-criticism",
   "metadata": {},
   "outputs": [
    {
     "ename": "ImportError",
     "evalue": "dlopen(../FINDER.cpython-37m-darwin.so, 0x0002): tried: '../FINDER.cpython-37m-darwin.so' (mach-o file, but is an incompatible architecture (have 'x86_64', need 'arm64')), '/System/Volumes/Preboot/Cryptexes/OS../FINDER.cpython-37m-darwin.so' (no such file), '/Users/zhangxiangxian/.pyenv/versions/3.7.17/lib/../FINDER.cpython-37m-darwin.so' (no such file), '/System/Volumes/Preboot/Cryptexes/OS/Users/zhangxiangxian/.pyenv/versions/3.7.17/lib/../FINDER.cpython-37m-darwin.so' (no such file), '/opt/homebrew/lib/../FINDER.cpython-37m-darwin.so' (no such file), '/System/Volumes/Preboot/Cryptexes/OS/opt/homebrew/lib/../FINDER.cpython-37m-darwin.so' (no such file), '/Users/zhangxiangxian/.pyenv/versions/3.7.17/lib/../FINDER.cpython-37m-darwin.so' (no such file), '/System/Volumes/Preboot/Cryptexes/OS/Users/zhangxiangxian/.pyenv/versions/3.7.17/lib/../FINDER.cpython-37m-darwin.so' (no such file), '/opt/homebrew/lib/../FINDER.cpython-37m-darwin.so' (no such file), '/System/Volumes/Preboot/Cryptexes/OS/opt/homebrew/lib/../FINDER.cpython-37m-darwin.so' (no such file), '/opt/homebrew/lib/../FINDER.cpython-37m-darwin.so' (no such file), '/System/Volumes/Preboot/Cryptexes/OS/opt/homebrew/lib/../FINDER.cpython-37m-darwin.so' (no such file), '/Users/zhangxiangxian/.pyenv/versions/3.7.17/lib/../FINDER.cpython-37m-darwin.so' (no such file), '/System/Volumes/Preboot/Cryptexes/OS/Users/zhangxiangxian/.pyenv/versions/3.7.17/lib/../FINDER.cpython-37m-darwin.so' (no such file), '/opt/homebrew/lib/../FINDER.cpython-37m-darwin.so' (no such file), '/System/Volumes/Preboot/Cryptexes/OS/opt/homebrew/lib/../FINDER.cpython-37m-darwin.so' (no such file), '/Users/zhangxiangxian/.pyenv/versions/3.7.17/lib/../FINDER.cpython-37m-darwin.so' (no such file), '/System/Volumes/Preboot/Cryptexes/OS/Users/zhangxiangxian/.pyenv/versions/3.7.17/lib/../FINDER.cpython-37m-darwin.so' (no such file), '/opt/homebrew/lib/../FINDER.cpython-37m-darwin.so' (no such file), '/System/Volumes/Preboot/Cryptexes/OS/opt/homebrew/lib/../FINDER.cpython-37m-darwin.so' (no such file), '/opt/homebrew/lib/../FINDER.cpython-37m-darwin.so' (no such file), '/System/Volumes/Preboot/Cryptexes/OS/opt/homebrew/lib/../FINDER.cpython-37m-darwin.so' (no such file), '/usr/lib/../FINDER.cpython-37m-darwin.so' (no such file, not in dyld cache), '../FINDER.cpython-37m-darwin.so' (mach-o file, but is an incompatible architecture (have 'x86_64', need 'arm64')), '/Users/zhangxiangxian/Desktop/FINDER_deploy/FINDER.cpython-37m-darwin.so' (mach-o file, but is an incompatible architecture (have 'x86_64', need 'arm64')), '/System/Volumes/Preboot/Cryptexes/OS/Users/zhangxiangxian/Desktop/FINDER_deploy/FINDER.cpython-37m-darwin.so' (no such file), '/Users/zhangxiangxian/Desktop/FINDER_deploy/FINDER.cpython-37m-darwin.so' (mach-o file, but is an incompatible architecture (have 'x86_64', need 'arm64'))",
     "output_type": "error",
     "traceback": [
      "\u001b[0;31m---------------------------------------------------------------------------\u001b[0m",
      "\u001b[0;31mImportError\u001b[0m                               Traceback (most recent call last)",
      "\u001b[0;32m/var/folders/fx/5kbpcq917nd5ql3th5dwzwzr0000gn/T/ipykernel_88568/3235957018.py\u001b[0m in \u001b[0;36m<module>\u001b[0;34m\u001b[0m\n\u001b[1;32m      9\u001b[0m \u001b[0;31m# sys.path.append(os.path.dirname(__file__) + os.sep + '../')\u001b[0m\u001b[0;34m\u001b[0m\u001b[0;34m\u001b[0m\u001b[0;34m\u001b[0m\u001b[0m\n\u001b[1;32m     10\u001b[0m \u001b[0msys\u001b[0m\u001b[0;34m.\u001b[0m\u001b[0mpath\u001b[0m\u001b[0;34m.\u001b[0m\u001b[0mappend\u001b[0m\u001b[0;34m(\u001b[0m\u001b[0;34m'../'\u001b[0m\u001b[0;34m)\u001b[0m\u001b[0;34m\u001b[0m\u001b[0;34m\u001b[0m\u001b[0m\n\u001b[0;32m---> 11\u001b[0;31m \u001b[0;32mfrom\u001b[0m \u001b[0mFINDER\u001b[0m \u001b[0;32mimport\u001b[0m \u001b[0mFINDER\u001b[0m\u001b[0;34m\u001b[0m\u001b[0;34m\u001b[0m\u001b[0m\n\u001b[0m\u001b[1;32m     12\u001b[0m \u001b[0;34m\u001b[0m\u001b[0m\n\u001b[1;32m     13\u001b[0m maping = {\n",
      "\u001b[0;31mImportError\u001b[0m: dlopen(../FINDER.cpython-37m-darwin.so, 0x0002): tried: '../FINDER.cpython-37m-darwin.so' (mach-o file, but is an incompatible architecture (have 'x86_64', need 'arm64')), '/System/Volumes/Preboot/Cryptexes/OS../FINDER.cpython-37m-darwin.so' (no such file), '/Users/zhangxiangxian/.pyenv/versions/3.7.17/lib/../FINDER.cpython-37m-darwin.so' (no such file), '/System/Volumes/Preboot/Cryptexes/OS/Users/zhangxiangxian/.pyenv/versions/3.7.17/lib/../FINDER.cpython-37m-darwin.so' (no such file), '/opt/homebrew/lib/../FINDER.cpython-37m-darwin.so' (no such file), '/System/Volumes/Preboot/Cryptexes/OS/opt/homebrew/lib/../FINDER.cpython-37m-darwin.so' (no such file), '/Users/zhangxiangxian/.pyenv/versions/3.7.17/lib/../FINDER.cpython-37m-darwin.so' (no such file), '/System/Volumes/Preboot/Cryptexes/OS/Users/zhangxiangxian/.pyenv/versions/3.7.17/lib/../FINDER.cpython-37m-darwin.so' (no such file), '/opt/homebrew/lib/../FINDER.cpython-37m-darwin.so' (no such file), '/System/Volumes/Preboot/Cryptexes/OS/opt/homebrew/lib/../FINDER.cpython-37m-darwin.so' (no such file), '/opt/homebrew/lib/../FINDER.cpython-37m-darwin.so' (no such file), '/System/Volumes/Preboot/Cryptexes/OS/opt/homebrew/lib/../FINDER.cpython-37m-darwin.so' (no such file), '/Users/zhangxiangxian/.pyenv/versions/3.7.17/lib/../FINDER.cpython-37m-darwin.so' (no such file), '/System/Volumes/Preboot/Cryptexes/OS/Users/zhangxiangxian/.pyenv/versions/3.7.17/lib/../FINDER.cpython-37m-darwin.so' (no such file), '/opt/homebrew/lib/../FINDER.cpython-37m-darwin.so' (no such file), '/System/Volumes/Preboot/Cryptexes/OS/opt/homebrew/lib/../FINDER.cpython-37m-darwin.so' (no such file), '/Users/zhangxiangxian/.pyenv/versions/3.7.17/lib/../FINDER.cpython-37m-darwin.so' (no such file), '/System/Volumes/Preboot/Cryptexes/OS/Users/zhangxiangxian/.pyenv/versions/3.7.17/lib/../FINDER.cpython-37m-darwin.so' (no such file), '/opt/homebrew/lib/../FINDER.cpython-37m-darwin.so' (no such file), '/System/Volumes/Preboot/Cryptexes/OS/opt/homebrew/lib/../FINDER.cpython-37m-darwin.so' (no such file), '/opt/homebrew/lib/../FINDER.cpython-37m-darwin.so' (no such file), '/System/Volumes/Preboot/Cryptexes/OS/opt/homebrew/lib/../FINDER.cpython-37m-darwin.so' (no such file), '/usr/lib/../FINDER.cpython-37m-darwin.so' (no such file, not in dyld cache), '../FINDER.cpython-37m-darwin.so' (mach-o file, but is an incompatible architecture (have 'x86_64', need 'arm64')), '/Users/zhangxiangxian/Desktop/FINDER_deploy/FINDER.cpython-37m-darwin.so' (mach-o file, but is an incompatible architecture (have 'x86_64', need 'arm64')), '/System/Volumes/Preboot/Cryptexes/OS/Users/zhangxiangxian/Desktop/FINDER_deploy/FINDER.cpython-37m-darwin.so' (no such file), '/Users/zhangxiangxian/Desktop/FINDER_deploy/FINDER.cpython-37m-darwin.so' (mach-o file, but is an incompatible architecture (have 'x86_64', need 'arm64'))"
     ]
    }
   ],
   "source": [
    "\n",
    "import networkx as nx\n",
    "# from simulator import CovertGenerator, DarkGenerator\n",
    "import numpy as np\n",
    "import pandas as pd\n",
    "import json, os, sys\n",
    "from tqdm import trange, tqdm\n",
    "from utility import read_gml, write_gml, getRobustness, HXA\n",
    "\n",
    "# sys.path.append(os.path.dirname(__file__) + os.sep + '../')\n",
    "sys.path.append('../')\n",
    "from FINDER import FINDER\n",
    "\n",
    "maping = {\n",
    "    1: '911.gml', 2: 'DOMESTICTERRORWEB.gml', \n",
    "    3: 'suicide.gml', 4: 'HAMBURG_TIE_YEAR.gml',\n",
    "    5: 'HEROIN_DEALING.gml', 6: 'ITALIAN_GANGS.gml',\n",
    "    7: 'MAIL.gml', 8: 'NDRANGHETAMAFIA_2M.gml',\n",
    "    9: 'PREVERE1MODE.gml', 10: 'RHODESBOMBING.gml', 11:  'SWINGERS_club.gml',\n",
    "}"
   ]
  },
  {
   "cell_type": "markdown",
   "id": "88a8c09c",
   "metadata": {},
   "source": [
    "## Heuristic based (Empirical)"
   ]
  },
  {
   "cell_type": "code",
   "execution_count": 6,
   "id": "24b9e3f6",
   "metadata": {},
   "outputs": [],
   "source": [
    "if not os.path.exists(f\"../empirical_data/hxa_node_hist\"):\n",
    "    os.mkdir(f\"../empirical_data/hxa_node_hist\")\n",
    "\n",
    "if not os.path.exists(f\"../empirical_data/hxa_reward_hist\"):\n",
    "    os.mkdir(f\"../empirical_data/hxa_reward_hist\")\n",
    "\n",
    "for idx, file in maping.items():\n",
    "    g = nx.read_gml(\"../empirical_data/\" + file)\n",
    "    node_mapping = {node: i for i, node in enumerate(g.nodes())}\n",
    "    g = nx.relabel_nodes(g, node_mapping)\n",
    "\n",
    "    hxa_dct, reward_dct = dict(), dict()\n",
    "    for method in ['HDA', 'HBA', 'HCA', 'HPRA']:\n",
    "        sol, reward = HXA(g=g, method=method)\n",
    "        hxa_dct[method] = sol\n",
    "        reward_dct[method] = (np.cumsum(reward) / g.number_of_nodes()).tolist()\n",
    "\n",
    "    with open(f\"../empirical_data/hxa_node_hist/g_{idx}.json\", \"w\") as json_file:\n",
    "        json.dump(hxa_dct, json_file) \n",
    "    with open(f\"../empirical_data/hxa_reward_hist/g_{idx}.json\", \"w\") as json_file:\n",
    "        json.dump(reward_dct, json_file)\n",
    "    "
   ]
  },
  {
   "cell_type": "markdown",
   "id": "120b8a00",
   "metadata": {},
   "source": [
    "## FINDER based (Empirical)"
   ]
  },
  {
   "cell_type": "code",
   "execution_count": 4,
   "id": "945ad842",
   "metadata": {},
   "outputs": [],
   "source": [
    "if not os.path.exists(f\"../empirical_data/finder_node_hist\"):\n",
    "    os.mkdir(f\"../empirical_data/finder_node_hist\")\n",
    "\n",
    "if not os.path.exists(f\"../empirical_data/finder_reward_hist\"):\n",
    "    os.mkdir(f\"../empirical_data/finder_reward_hist\")\n",
    "\n",
    "\n",
    "\n",
    "\n",
    "def main():\n",
    "    dqn = FINDER()\n",
    "    # model_file = './models/Model_barabasi_albert/nrange_200_200_iter_154500.ckpt'\n",
    "    model_file = './models/Model_dark/nrange_200_200_iter_464100.ckpt'\n",
    "\n",
    "    for i in range(100):\n",
    "        with open(f\"data/dark/finder_node_hist/g_{i}.txt\", 'w') as fout:\n",
    "            val, sol = dqn.Evaluate(f\"data/dark/g_{i}\", model_file)\n",
    "            for i, s in enumerate(sol):\n",
    "                fout.write(f'{i}, {s}\\n')\n",
    "            fout.flush()\n",
    "        print(\"done\")\n",
    "\n",
    "if __name__==\"__main__\":\n",
    "    main()\n"
   ]
  },
  {
   "cell_type": "markdown",
   "id": "eeffb255",
   "metadata": {},
   "source": [
    "## Heuristic based (Synthetic)"
   ]
  },
  {
   "cell_type": "code",
   "execution_count": null,
   "id": "norman-arkansas",
   "metadata": {},
   "outputs": [],
   "source": [
    "gtype = \"ba\"\n",
    "for i in trange(100):\n",
    "    hxa_dct, reward_dct = {}, {}\n",
    "    g = read_gml(data_dir=f\"./{gtype}/\", file_name=f\"g_{i}\")\n",
    "    G = g.copy()\n",
    "    for method in ['HDA', 'HBA', 'HCA', 'HPRA']:\n",
    "        sol, reward = HXA(g=g, method=method)\n",
    "        hxa_dct[method] = sol\n",
    "        reward_dct[method] = (np.cumsum(reward) / g.number_of_nodes()).tolist()\n",
    "        \n",
    "    with open(f\"./{gtype}/hxa_node_hist/g_{i}.json\", \"w\") as json_file:\n",
    "        json.dump(hxa_dct, json_file) \n",
    "    with open(f\"./{gtype}/hxa_reward_hist/g_{i}.json\", \"w\") as json_file:\n",
    "        json.dump(reward_dct, json_file)"
   ]
  },
  {
   "cell_type": "markdown",
   "id": "relative-tuning",
   "metadata": {},
   "source": [
    "## FINDER "
   ]
  },
  {
   "cell_type": "code",
   "execution_count": 71,
   "id": "furnished-december",
   "metadata": {},
   "outputs": [
    {
     "name": "stderr",
     "output_type": "stream",
     "text": [
      "100%|██████████| 10/10 [00:00<00:00, 12.79it/s]\n"
     ]
    }
   ],
   "source": [
    "for i in trange(10):\n",
    "    finder_dct = dict()\n",
    "    reward_lst = []\n",
    "    g = read_gml(data_dir=\"./ba/\", file_name=f\"g_{i}\")\n",
    "    G = g.copy()\n",
    "    df = pd.read_csv(f\"./ba/finder_node_hist/g_{i}.txt\", header=None).rename(columns={0: \"round\", 1: \"node\"})\n",
    "     \n",
    "    for row_idx, (round, node) in df.iterrows():\n",
    "        reward_lst.append(getRobustness(g, G, int(node)))\n",
    "        \n",
    "    for _ in range(g.number_of_nodes() - len(reward_lst)):\n",
    "        GCCsize = len(max(nx.connected_components(g), key=len))\n",
    "        reward_lst.append(1 - 1/GCCsize)\n",
    "\n",
    "    reward_lst = (np.cumsum(reward_lst) / g.number_of_nodes()).tolist()\n",
    "\n",
    "    with open(f\"./ba/finder_reward_hist/g_{i}.json\", \"w\") as json_file:\n",
    "        json.dump(reward_lst, json_file)\n"
   ]
  },
  {
   "cell_type": "markdown",
   "id": "coupled-eugene",
   "metadata": {},
   "source": [
    "## FINDER action w.r.t HXA"
   ]
  },
  {
   "cell_type": "code",
   "execution_count": 144,
   "id": "working-combat",
   "metadata": {},
   "outputs": [],
   "source": [
    "from scipy.stats import percentileofscore\n",
    "\n",
    "rank_dct = {\n",
    "    \"HDA\": [], \"HBA\": [], \n",
    "    \"HCA\": [], \"HPRA\": []\n",
    "}\n",
    "\n",
    "for i in range(100):\n",
    "    G = read_gml(data_dir=\"./ba/\", file_name=f\"g_{i}\")\n",
    "    df = pd.read_csv(f\"./ba/finder_node_hist/g_{i}.txt\", header=None).rename(columns={0: \"round\", 1: \"node\"})    \n",
    "    \n",
    "    rank_lst = []\n",
    "    for _, (round, n) in df.iterrows():\n",
    "        try:\n",
    "            for method in ['HDA', 'HBA', 'HCA', 'HPRA']:\n",
    "                if method == 'HDA':\n",
    "                    dc = nx.degree_centrality(G)\n",
    "                elif method == 'HBA':\n",
    "                    dc = nx.betweenness_centrality(G)\n",
    "                elif method == 'HCA':\n",
    "                    dc = nx.closeness_centrality(G)\n",
    "                elif method == 'HPRA':\n",
    "                    dc = nx.pagerank(G)\n",
    "\n",
    "                rank = percentileofscore(list(dc.values()), dc[n])\n",
    "                rank_lst.append(rank)\n",
    "\n",
    "            removed = [n for n in G.neighbors(int(n))] + [int(n)]\n",
    "            for n in removed:\n",
    "                G.remove_node(n)\n",
    "\n",
    "        except:\n",
    "            pass\n",
    "    rank_dct[method].append(rank_lst)"
   ]
  },
  {
   "cell_type": "code",
   "execution_count": null,
   "id": "unique-content",
   "metadata": {},
   "outputs": [],
   "source": []
  },
  {
   "cell_type": "code",
   "execution_count": 150,
   "id": "spatial-input",
   "metadata": {},
   "outputs": [
    {
     "data": {
      "image/png": "[encoded data removed]",
      "text/plain": [
       "<Figure size 640x480 with 1 Axes>"
      ]
     },
     "metadata": {},
     "output_type": "display_data"
    }
   ],
   "source": [
    "for method in ['HDA', 'HBA', 'HCA', 'HPRA']:\n",
    "    avg_lst = []\n",
    "    for rank_lst in rank_dct[method]:\n",
    "        for i in rank_lst:\n",
    "            avg_lst.append(i)\n",
    "#         avg_lst.append(np.mean(rank_lst))\n",
    "    plt.xlabel('Pertile')\n",
    "    plt.ylabel('Frequency')\n",
    "    \n",
    "    plt.hist(avg_lst, bins=20, color=\"blue\")\n",
    "    plt.title(f\"BA: {method} percetntile (all_round)\")\n",
    "    plt.savefig(f\"./ba/{method}_all_round.png\") \n",
    "    "
   ]
  }
 ],
 "metadata": {
  "kernelspec": {
   "display_name": "Python 3",
   "language": "python",
   "name": "python3"
  },
  "language_info": {
   "codemirror_mode": {
    "name": "ipython",
    "version": 3
   },
   "file_extension": ".py",
   "mimetype": "text/x-python",
   "name": "python",
   "nbconvert_exporter": "python",
   "pygments_lexer": "ipython3",
   "version": "3.7.17"
  }
 },
 "nbformat": 4,
 "nbformat_minor": 5
}
