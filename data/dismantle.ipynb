{
 "cells": [
  {
   "cell_type": "code",
   "execution_count": 5,
   "id": "retired-criticism",
   "metadata": {},
   "outputs": [],
   "source": [
    "import networkx as nx\n",
    "# from simulator import CovertGenerator, DarkGenerator\n",
    "import numpy as np\n",
    "import pandas as pd\n",
    "import json, os, sys\n",
    "from tqdm import trange, tqdm\n",
    "from utility import read_gml, getRobustness, HXA\n",
    "\n",
    "mapping = {\n",
    "    1: \"911.gml\", \n",
    "    2: 'DOMESTICTERRORWEB.gml', \n",
    "    3: 'suicide.gml', 4: 'HAMBURG_TIE_YEAR.gml',\n",
    "    5: 'HEROIN_DEALING.gml', \n",
    "    7: 'MAIL.gml'\n",
    "}"
   ]
  },
  {
   "cell_type": "markdown",
   "id": "88a8c09c",
   "metadata": {},
   "source": [
    "## Heuristic based (Empirical)"
   ]
  },
  {
   "cell_type": "code",
   "execution_count": 6,
   "id": "24b9e3f6",
   "metadata": {},
   "outputs": [],
   "source": [
    "if not os.path.exists(f\"../empirical_data/hxa_node_hist\"):\n",
    "    os.mkdir(f\"../empirical_data/hxa_node_hist\")\n",
    "\n",
    "if not os.path.exists(f\"../empirical_data/hxa_reward_hist\"):\n",
    "    os.mkdir(f\"../empirical_data/hxa_reward_hist\")\n",
    "\n",
    "for idx, file in mapping.items():\n",
    "    g = nx.read_gml(\"../empirical_data/\" + file)\n",
    "    node_mapping = {node: i for i, node in enumerate(g.nodes())}\n",
    "    g = nx.relabel_nodes(g, node_mapping)\n",
    "\n",
    "    hxa_dct, reward_dct = dict(), dict()\n",
    "    for method in ['HDA', 'HBA', 'HCA', 'HPRA']:\n",
    "        sol, reward = HXA(g=g, method=method)\n",
    "        hxa_dct[method] = sol\n",
    "        reward_dct[method] = (np.cumsum(reward) / g.number_of_nodes()).tolist()\n",
    "    with open(f\"../empirical_data/hxa_node_hist/g_{idx}.json\", \"w\") as json_file:\n",
    "        json.dump(hxa_dct, json_file) \n",
    "    with open(f\"../empirical_data/hxa_reward_hist/g_{idx}.json\", \"w\") as json_file:\n",
    "        json.dump(reward_dct, json_file)"
   ]
  },
  {
   "cell_type": "markdown",
   "id": "120b8a00",
   "metadata": {},
   "source": [
    "## FINDER based (Empirical)"
   ]
  },
  {
   "cell_type": "code",
   "execution_count": 10,
   "id": "945ad842",
   "metadata": {},
   "outputs": [],
   "source": [
    "for idx, file in mapping.items():\n",
    "    if idx == 1:\n",
    "        methods = [\"empirical\"]\n",
    "    else:\n",
    "        methods = [\"ba\", \"dark\", \"covert\", \"empirical\"]\n",
    "    for model in methods:\n",
    "        if idx == 1 and model != \"empirical\":\n",
    "            break\n",
    "        finder_dct = dict()\n",
    "        reward_lst = []\n",
    "        g = read_gml(data_dir=\"../empirical_data/\", file_name=file)\n",
    "        G = g.copy()\n",
    "        df = pd.read_csv(f\"../empirical_data/finder_node_hist/{model}_{idx}.txt\", header=None).rename(columns={0: \"round\", 1: \"node\"})\n",
    "\n",
    "        for row_idx, (round, node) in df.iterrows():\n",
    "            reward_lst.append(getRobustness(g, G, int(node)))\n",
    "            \n",
    "        for _ in range(g.number_of_nodes() - len(reward_lst)):\n",
    "            GCCsize = len(max(nx.connected_components(g), key=len))\n",
    "            reward_lst.append(1 - 1/GCCsize)\n",
    "\n",
    "        reward_lst = (np.cumsum(reward_lst) / g.number_of_nodes()).tolist()\n",
    "\n",
    "        with open(f\"../empirical_data/finder_reward_hist/{model}_{idx}.json\", \"w\") as json_file:\n",
    "            json.dump(reward_lst, json_file)\n"
   ]
  },
  {
   "cell_type": "markdown",
   "id": "eeffb255",
   "metadata": {},
   "source": [
    "## Heuristic based (Synthetic)"
   ]
  },
  {
   "cell_type": "code",
   "execution_count": null,
   "id": "norman-arkansas",
   "metadata": {},
   "outputs": [
    {
     "ename": "",
     "evalue": "",
     "output_type": "error",
     "traceback": [
      "\u001b[1;31m執行具有 'FINDER' 的儲存格需要 ipykernel 套件。\n",
      "\u001b[1;31mRun the following command to install 'ipykernel' into the Python environment. \n",
      "\u001b[1;31mCommand: 'conda install -n FINDER ipykernel --update-deps --force-reinstall'"
     ]
    }
   ],
   "source": [
    "gtype = \"ba\"\n",
    "for i in trange(100):\n",
    "    hxa_dct, reward_dct = {}, {}\n",
    "    g = read_gml(data_dir=f\"./{gtype}/\", file_name=f\"g_{i}\")\n",
    "    G = g.copy()\n",
    "    for method in ['HDA', 'HBA', 'HCA', 'HPRA']:\n",
    "        sol, reward = HXA(g=g, method=method)\n",
    "        hxa_dct[method] = sol\n",
    "        reward_dct[method] = (np.cumsum(reward) / g.number_of_nodes()).tolist()\n",
    "        \n",
    "    with open(f\"./{gtype}/hxa_node_hist/g_{i}.json\", \"w\") as json_file:\n",
    "        json.dump(hxa_dct, json_file) \n",
    "    with open(f\"./{gtype}/hxa_reward_hist/g_{i}.json\", \"w\") as json_file:\n",
    "        json.dump(reward_dct, json_file)"
   ]
  },
  {
   "cell_type": "markdown",
   "id": "relative-tuning",
   "metadata": {},
   "source": [
    "## FINDER based (Synthetic)"
   ]
  },
  {
   "cell_type": "code",
   "execution_count": null,
   "id": "furnished-december",
   "metadata": {},
   "outputs": [
    {
     "ename": "",
     "evalue": "",
     "output_type": "error",
     "traceback": [
      "\u001b[1;31m執行具有 'FINDER' 的儲存格需要 ipykernel 套件。\n",
      "\u001b[1;31mRun the following command to install 'ipykernel' into the Python environment. \n",
      "\u001b[1;31mCommand: 'conda install -n FINDER ipykernel --update-deps --force-reinstall'"
     ]
    }
   ],
   "source": [
    "for i in trange(10):\n",
    "    finder_dct = dict()\n",
    "    reward_lst = []\n",
    "    g = read_gml(data_dir=\"./ba/\", file_name=f\"g_{i}\")\n",
    "    G = g.copy()\n",
    "    df = pd.read_csv(f\"./ba/finder_node_hist/g_{i}.txt\", header=None).rename(columns={0: \"round\", 1: \"node\"})\n",
    "     \n",
    "    for row_idx, (round, node) in df.iterrows():\n",
    "        reward_lst.append(getRobustness(g, G, int(node)))\n",
    "        \n",
    "    for _ in range(g.number_of_nodes() - len(reward_lst)):\n",
    "        GCCsize = len(max(nx.connected_components(g), key=len))\n",
    "        reward_lst.append(1 - 1/GCCsize)\n",
    "\n",
    "    reward_lst = (np.cumsum(reward_lst) / g.number_of_nodes()).tolist()\n",
    "\n",
    "    with open(f\"./ba/finder_reward_hist/g_{i}.json\", \"w\") as json_file:\n",
    "        json.dump(reward_lst, json_file)\n"
   ]
  },
  {
   "cell_type": "markdown",
   "id": "coupled-eugene",
   "metadata": {},
   "source": [
    "## FINDER action w.r.t HXA"
   ]
  },
  {
   "cell_type": "code",
   "execution_count": null,
   "id": "working-combat",
   "metadata": {},
   "outputs": [
    {
     "ename": "",
     "evalue": "",
     "output_type": "error",
     "traceback": [
      "\u001b[1;31m執行具有 'FINDER' 的儲存格需要 ipykernel 套件。\n",
      "\u001b[1;31mRun the following command to install 'ipykernel' into the Python environment. \n",
      "\u001b[1;31mCommand: 'conda install -n FINDER ipykernel --update-deps --force-reinstall'"
     ]
    }
   ],
   "source": [
    "from scipy.stats import percentileofscore\n",
    "\n",
    "rank_dct = {\n",
    "    \"HDA\": [], \"HBA\": [], \n",
    "    \"HCA\": [], \"HPRA\": []\n",
    "}\n",
    "\n",
    "for i in range(100):\n",
    "    G = read_gml(data_dir=\"./ba/\", file_name=f\"g_{i}\")\n",
    "    df = pd.read_csv(f\"./ba/finder_node_hist/g_{i}.txt\", header=None).rename(columns={0: \"round\", 1: \"node\"})    \n",
    "    \n",
    "    rank_lst = []\n",
    "    for _, (round, n) in df.iterrows():\n",
    "        try:\n",
    "            for method in ['HDA', 'HBA', 'HCA', 'HPRA']:\n",
    "                if method == 'HDA':\n",
    "                    dc = nx.degree_centrality(G)\n",
    "                elif method == 'HBA':\n",
    "                    dc = nx.betweenness_centrality(G)\n",
    "                elif method == 'HCA':\n",
    "                    dc = nx.closeness_centrality(G)\n",
    "                elif method == 'HPRA':\n",
    "                    dc = nx.pagerank(G)\n",
    "\n",
    "                rank = percentileofscore(list(dc.values()), dc[n])\n",
    "                rank_lst.append(rank)\n",
    "\n",
    "            removed = [n for n in G.neighbors(int(n))] + [int(n)]\n",
    "            for n in removed:\n",
    "                G.remove_node(n)\n",
    "\n",
    "        except:\n",
    "            pass\n",
    "    rank_dct[method].append(rank_lst)"
   ]
  },
  {
   "cell_type": "code",
   "execution_count": null,
   "id": "unique-content",
   "metadata": {},
   "outputs": [
    {
     "ename": "",
     "evalue": "",
     "output_type": "error",
     "traceback": [
      "\u001b[1;31m執行具有 'FINDER' 的儲存格需要 ipykernel 套件。\n",
      "\u001b[1;31mRun the following command to install 'ipykernel' into the Python environment. \n",
      "\u001b[1;31mCommand: 'conda install -n FINDER ipykernel --update-deps --force-reinstall'"
     ]
    }
   ],
   "source": []
  },
  {
   "cell_type": "code",
   "execution_count": null,
   "id": "spatial-input",
   "metadata": {},
   "outputs": [
    {
     "ename": "",
     "evalue": "",
     "output_type": "error",
     "traceback": [
      "\u001b[1;31m執行具有 'FINDER' 的儲存格需要 ipykernel 套件。\n",
      "\u001b[1;31mRun the following command to install 'ipykernel' into the Python environment. \n",
      "\u001b[1;31mCommand: 'conda install -n FINDER ipykernel --update-deps --force-reinstall'"
     ]
    }
   ],
   "source": [
    "for method in ['HDA', 'HBA', 'HCA', 'HPRA']:\n",
    "    avg_lst = []\n",
    "    for rank_lst in rank_dct[method]:\n",
    "        for i in rank_lst:\n",
    "            avg_lst.append(i)\n",
    "#         avg_lst.append(np.mean(rank_lst))\n",
    "    plt.xlabel('Pertile')\n",
    "    plt.ylabel('Frequency')\n",
    "    \n",
    "    plt.hist(avg_lst, bins=20, color=\"blue\")\n",
    "    plt.title(f\"BA: {method} percetntile (all_round)\")\n",
    "    plt.savefig(f\"./ba/{method}_all_round.png\") \n",
    "    "
   ]
  }
 ],
 "metadata": {
  "kernelspec": {
   "display_name": "Python 3",
   "language": "python",
   "name": "python3"
  },
  "language_info": {
   "codemirror_mode": {
    "name": "ipython",
    "version": 3
   },
   "file_extension": ".py",
   "mimetype": "text/x-python",
   "name": "python",
   "nbconvert_exporter": "python",
   "pygments_lexer": "ipython3",
   "version": "3.7.4"
  }
 },
 "nbformat": 4,
 "nbformat_minor": 5
}
