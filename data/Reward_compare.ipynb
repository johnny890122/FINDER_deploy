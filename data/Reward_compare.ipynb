{
 "cells": [
  {
   "cell_type": "code",
   "execution_count": 5,
   "id": "hearing-reminder",
   "metadata": {},
   "outputs": [],
   "source": [
    "import pandas as pd\n",
    "import json\n",
    "import numpy as np\n",
    "import networkx as nx"
   ]
  },
  {
   "cell_type": "markdown",
   "id": "22d8a615",
   "metadata": {},
   "source": [
    "## Empirical"
   ]
  },
  {
   "cell_type": "code",
   "execution_count": 9,
   "id": "8a417422",
   "metadata": {},
   "outputs": [
    {
     "data": {
      "text/html": [
       "<div>\n",
       "<style scoped>\n",
       "    .dataframe tbody tr th:only-of-type {\n",
       "        vertical-align: middle;\n",
       "    }\n",
       "\n",
       "    .dataframe tbody tr th {\n",
       "        vertical-align: top;\n",
       "    }\n",
       "\n",
       "    .dataframe thead th {\n",
       "        text-align: right;\n",
       "    }\n",
       "</style>\n",
       "<table border=\"1\" class=\"dataframe\">\n",
       "  <thead>\n",
       "    <tr style=\"text-align: right;\">\n",
       "      <th></th>\n",
       "      <th>HDA</th>\n",
       "      <th>HBA</th>\n",
       "      <th>HCA</th>\n",
       "      <th>HPRA</th>\n",
       "    </tr>\n",
       "  </thead>\n",
       "  <tbody>\n",
       "    <tr>\n",
       "      <th>1</th>\n",
       "      <td>0.814404</td>\n",
       "      <td>0.786704</td>\n",
       "      <td>0.833795</td>\n",
       "      <td>0.806094</td>\n",
       "    </tr>\n",
       "    <tr>\n",
       "      <th>2</th>\n",
       "      <td>0.866211</td>\n",
       "      <td>0.873047</td>\n",
       "      <td>0.866211</td>\n",
       "      <td>0.866211</td>\n",
       "    </tr>\n",
       "    <tr>\n",
       "      <th>3</th>\n",
       "      <td>0.928819</td>\n",
       "      <td>0.924479</td>\n",
       "      <td>0.931424</td>\n",
       "      <td>0.927517</td>\n",
       "    </tr>\n",
       "    <tr>\n",
       "      <th>4</th>\n",
       "      <td>0.806641</td>\n",
       "      <td>0.794922</td>\n",
       "      <td>0.807617</td>\n",
       "      <td>0.799805</td>\n",
       "    </tr>\n",
       "    <tr>\n",
       "      <th>5</th>\n",
       "      <td>0.855956</td>\n",
       "      <td>0.851108</td>\n",
       "      <td>0.838643</td>\n",
       "      <td>0.853186</td>\n",
       "    </tr>\n",
       "    <tr>\n",
       "      <th>6</th>\n",
       "      <td>0.935385</td>\n",
       "      <td>0.935621</td>\n",
       "      <td>0.940592</td>\n",
       "      <td>0.928521</td>\n",
       "    </tr>\n",
       "    <tr>\n",
       "      <th>7</th>\n",
       "      <td>0.888889</td>\n",
       "      <td>0.888117</td>\n",
       "      <td>0.903549</td>\n",
       "      <td>0.881173</td>\n",
       "    </tr>\n",
       "    <tr>\n",
       "      <th>8</th>\n",
       "      <td>0.739792</td>\n",
       "      <td>0.799132</td>\n",
       "      <td>0.807596</td>\n",
       "      <td>0.728038</td>\n",
       "    </tr>\n",
       "    <tr>\n",
       "      <th>9</th>\n",
       "      <td>0.778908</td>\n",
       "      <td>0.777249</td>\n",
       "      <td>0.803646</td>\n",
       "      <td>0.742219</td>\n",
       "    </tr>\n",
       "    <tr>\n",
       "      <th>10</th>\n",
       "      <td>0.752066</td>\n",
       "      <td>0.752066</td>\n",
       "      <td>0.737603</td>\n",
       "      <td>0.756198</td>\n",
       "    </tr>\n",
       "    <tr>\n",
       "      <th>11</th>\n",
       "      <td>0.751134</td>\n",
       "      <td>0.769841</td>\n",
       "      <td>0.769841</td>\n",
       "      <td>0.750567</td>\n",
       "    </tr>\n",
       "  </tbody>\n",
       "</table>\n",
       "</div>"
      ],
      "text/plain": [
       "         HDA       HBA       HCA      HPRA\n",
       "1   0.814404  0.786704  0.833795  0.806094\n",
       "2   0.866211  0.873047  0.866211  0.866211\n",
       "3   0.928819  0.924479  0.931424  0.927517\n",
       "4   0.806641  0.794922  0.807617  0.799805\n",
       "5   0.855956  0.851108  0.838643  0.853186\n",
       "6   0.935385  0.935621  0.940592  0.928521\n",
       "7   0.888889  0.888117  0.903549  0.881173\n",
       "8   0.739792  0.799132  0.807596  0.728038\n",
       "9   0.778908  0.777249  0.803646  0.742219\n",
       "10  0.752066  0.752066  0.737603  0.756198\n",
       "11  0.751134  0.769841  0.769841  0.750567"
      ]
     },
     "execution_count": 9,
     "metadata": {},
     "output_type": "execute_result"
    }
   ],
   "source": [
    "reward_dct, len_dct = {}, {}\n",
    "\n",
    "for idx in range(1, 12):\n",
    "    with open(f\"../empirical_data/hxa_reward_hist/g_{idx}.json\", \"r\") as json_file:\n",
    "        data = json.load(json_file)\n",
    "    dct = dict()\n",
    "    for HXA in ['HDA', 'HBA', 'HCA', 'HPRA']:\n",
    "        dct[HXA] = data[HXA][-1]\n",
    "    reward_dct[idx] = dct\n",
    "\n",
    "# TODO: FINDER reward 要加進來\n",
    "pd.DataFrame.from_dict(reward_dct, orient='index')"
   ]
  },
  {
   "cell_type": "markdown",
   "id": "c90e669e",
   "metadata": {},
   "source": [
    "# Synthetic"
   ]
  },
  {
   "cell_type": "code",
   "execution_count": 88,
   "id": "colored-penny",
   "metadata": {},
   "outputs": [
    {
     "name": "stdout",
     "output_type": "stream",
     "text": [
      "HDA 59.7\n",
      "HBA 173.8\n",
      "HCA 60.8\n",
      "HPRA 59.4\n",
      "FINDER 64.4\n"
     ]
    }
   ],
   "source": [
    "# Read the JSON file\n",
    "reward_dct = {\n",
    "    \"HDA\": [], \"HBA\": [], \n",
    "    \"HCA\": [], \"HPRA\": [], \n",
    "    \"FINDER\": []\n",
    "}\n",
    "len_dct = {\n",
    "    \"HDA\": [], \"HBA\": [], \n",
    "    \"HCA\": [], \"HPRA\": [], \n",
    "    \"FINDER\": []\n",
    "}\n",
    "for i in range(10):\n",
    "    with open(f\"./ba/hxa_reward_hist/g_{i}.json\", \"r\") as json_file:\n",
    "        data = json.load(json_file)\n",
    "     \n",
    "    for HXA in ['HDA', 'HBA', 'HCA', 'HPRA']:\n",
    "        reward_dct[HXA].append(data[HXA][-1])\n",
    "        len_dct[HXA].append(len(data[HXA]))\n",
    "\n",
    "    with open(f\"./ba/finder_reward_hist/g_{i}.json\", \"r\") as json_file:\n",
    "        data = json.load(json_file)\n",
    "        reward_dct[\"FINDER\"].append(data[-1])\n",
    "        len_dct[\"FINDER\"].append(len(data))\n",
    "\n",
    "for key in reward_dct.keys():\n",
    "    print(key, np.mean(len_dct[key]))"
   ]
  },
  {
   "cell_type": "code",
   "execution_count": 74,
   "id": "empty-popularity",
   "metadata": {},
   "outputs": [],
   "source": []
  },
  {
   "cell_type": "code",
   "execution_count": null,
   "id": "parallel-ordinary",
   "metadata": {},
   "outputs": [],
   "source": []
  },
  {
   "cell_type": "code",
   "execution_count": 77,
   "id": "absent-harvest",
   "metadata": {},
   "outputs": [
    {
     "data": {
      "text/plain": [
       "NodeView((0, 1, 3, 4, 5, 6, 7, 8, 9, 10, 11, 12, 13, 14, 15, 16, 17, 18, 19, 20, 21, 22, 23, 24, 25, 26, 27, 28, 29, 30, 31, 32, 33, 34, 35, 36, 37, 38, 39, 40, 41, 42, 43, 44, 45, 46, 47, 48, 49, 50, 51, 52, 53, 54, 55, 56, 57, 58, 59, 60, 61, 62, 63, 64, 65, 66, 67, 68, 69, 70, 71, 72, 73, 74, 75, 76, 77, 78, 79, 80, 81, 82, 83, 84, 85, 86, 87, 88, 89, 90, 91, 92, 93, 94, 95, 96, 97, 98, 99, 100, 101, 102, 103, 104, 105, 106, 107, 108, 109, 110, 111, 112, 113, 114, 115, 116, 117, 118, 119, 120, 121, 122, 123, 124, 125, 126, 127, 128, 129, 130, 131, 132, 133, 134, 135, 136, 137, 138, 139, 140, 141, 142, 143, 144, 145, 146, 147, 148, 149, 150, 151, 152, 153, 154, 155, 156, 157, 158, 159, 160, 161, 162, 163, 164, 165, 166, 167, 168, 169, 170, 171, 172, 173, 174, 175, 176, 177, 178, 179, 180, 181, 182, 183, 184, 185, 186, 187, 188, 189, 190, 191, 192, 193, 194, 195, 196, 197, 198, 199))"
      ]
     },
     "execution_count": 77,
     "metadata": {},
     "output_type": "execute_result"
    }
   ],
   "source": [
    "a = nx.read_gml(\"../tmpG/g_1\")\n",
    "a.nodes()\n",
    "# a.edges()"
   ]
  },
  {
   "cell_type": "code",
   "execution_count": 80,
   "id": "blind-mexican",
   "metadata": {},
   "outputs": [],
   "source": [
    "node_mapping = {\n",
    "node: cnt for cnt, node in enumerate(a.nodes())\n",
    "}\n",
    "\n",
    "b = nx.relabel_nodes(a, node_mapping)"
   ]
  },
  {
   "cell_type": "code",
   "execution_count": 81,
   "id": "clear-essence",
   "metadata": {},
   "outputs": [
    {
     "data": {
      "text/plain": [
       "NodeView((0, 1, 2, 3, 4, 5, 6, 7, 8, 9, 10, 11, 12, 13, 14, 15, 16, 17, 18, 19, 20, 21, 22, 23, 24, 25, 26, 27, 28, 29, 30, 31, 32, 33, 34, 35, 36, 37, 38, 39, 40, 41, 42, 43, 44, 45, 46, 47, 48, 49, 50, 51, 52, 53, 54, 55, 56, 57, 58, 59, 60, 61, 62, 63, 64, 65, 66, 67, 68, 69, 70, 71, 72, 73, 74, 75, 76, 77, 78, 79, 80, 81, 82, 83, 84, 85, 86, 87, 88, 89, 90, 91, 92, 93, 94, 95, 96, 97, 98, 99, 100, 101, 102, 103, 104, 105, 106, 107, 108, 109, 110, 111, 112, 113, 114, 115, 116, 117, 118, 119, 120, 121, 122, 123, 124, 125, 126, 127, 128, 129, 130, 131, 132, 133, 134, 135, 136, 137, 138, 139, 140, 141, 142, 143, 144, 145, 146, 147, 148, 149, 150, 151, 152, 153, 154, 155, 156, 157, 158, 159, 160, 161, 162, 163, 164, 165, 166, 167, 168, 169, 170, 171, 172, 173, 174, 175, 176, 177, 178, 179, 180, 181, 182, 183, 184, 185, 186, 187, 188, 189, 190, 191, 192, 193, 194, 195, 196, 197, 198))"
      ]
     },
     "execution_count": 81,
     "metadata": {},
     "output_type": "execute_result"
    }
   ],
   "source": [
    "b.nodes()"
   ]
  },
  {
   "cell_type": "code",
   "execution_count": null,
   "id": "german-scientist",
   "metadata": {},
   "outputs": [],
   "source": []
  }
 ],
 "metadata": {
  "kernelspec": {
   "display_name": "Python 3",
   "language": "python",
   "name": "python3"
  },
  "language_info": {
   "codemirror_mode": {
    "name": "ipython",
    "version": 3
   },
   "file_extension": ".py",
   "mimetype": "text/x-python",
   "name": "python",
   "nbconvert_exporter": "python",
   "pygments_lexer": "ipython3",
   "version": "3.7.4"
  }
 },
 "nbformat": 4,
 "nbformat_minor": 5
}
