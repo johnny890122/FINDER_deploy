{
 "cells": [
  {
   "cell_type": "code",
   "execution_count": 14,
   "id": "hearing-reminder",
   "metadata": {},
   "outputs": [],
   "source": [
    "import pandas as pd\n",
    "import json\n",
    "import numpy as np\n",
    "import networkx as nx\n",
    "\n",
    "mapping = {\n",
    "    2: 'DOMESTICTERRORWEB.gml', \n",
    "    3: 'suicide.gml', 4: 'HAMBURG_TIE_YEAR.gml',\n",
    "    5: 'HEROIN_DEALING.gml', \n",
    "    7: 'MAIL.gml'\n",
    "}"
   ]
  },
  {
   "cell_type": "markdown",
   "id": "22d8a615",
   "metadata": {},
   "source": [
    "## Empirical"
   ]
  },
  {
   "cell_type": "code",
   "execution_count": 15,
   "id": "8a417422",
   "metadata": {},
   "outputs": [
    {
     "data": {
      "text/html": [
       "<div>\n",
       "<style scoped>\n",
       "    .dataframe tbody tr th:only-of-type {\n",
       "        vertical-align: middle;\n",
       "    }\n",
       "\n",
       "    .dataframe tbody tr th {\n",
       "        vertical-align: top;\n",
       "    }\n",
       "\n",
       "    .dataframe thead th {\n",
       "        text-align: right;\n",
       "    }\n",
       "</style>\n",
       "<table border=\"1\" class=\"dataframe\">\n",
       "  <thead>\n",
       "    <tr style=\"text-align: right;\">\n",
       "      <th></th>\n",
       "      <th>HDA</th>\n",
       "      <th>HBA</th>\n",
       "      <th>HCA</th>\n",
       "      <th>HPRA</th>\n",
       "      <th>FINDER(ba)</th>\n",
       "      <th>FINDER(dark)</th>\n",
       "      <th>FINDER(covert)</th>\n",
       "    </tr>\n",
       "  </thead>\n",
       "  <tbody>\n",
       "    <tr>\n",
       "      <th>2</th>\n",
       "      <td>0.866211</td>\n",
       "      <td>0.873047</td>\n",
       "      <td>0.866211</td>\n",
       "      <td>0.866211</td>\n",
       "      <td>0.868164</td>\n",
       "      <td>0.869141</td>\n",
       "      <td>0.874023</td>\n",
       "    </tr>\n",
       "    <tr>\n",
       "      <th>3</th>\n",
       "      <td>0.928819</td>\n",
       "      <td>0.924479</td>\n",
       "      <td>0.931424</td>\n",
       "      <td>0.927517</td>\n",
       "      <td>0.929687</td>\n",
       "      <td>0.929253</td>\n",
       "      <td>0.931858</td>\n",
       "    </tr>\n",
       "    <tr>\n",
       "      <th>4</th>\n",
       "      <td>0.806641</td>\n",
       "      <td>0.794922</td>\n",
       "      <td>0.807617</td>\n",
       "      <td>0.799805</td>\n",
       "      <td>0.802734</td>\n",
       "      <td>0.802734</td>\n",
       "      <td>0.799805</td>\n",
       "    </tr>\n",
       "    <tr>\n",
       "      <th>5</th>\n",
       "      <td>0.855956</td>\n",
       "      <td>0.851108</td>\n",
       "      <td>0.838643</td>\n",
       "      <td>0.853186</td>\n",
       "      <td>0.857341</td>\n",
       "      <td>0.862881</td>\n",
       "      <td>0.863573</td>\n",
       "    </tr>\n",
       "    <tr>\n",
       "      <th>7</th>\n",
       "      <td>0.888889</td>\n",
       "      <td>0.888117</td>\n",
       "      <td>0.903549</td>\n",
       "      <td>0.881173</td>\n",
       "      <td>0.881173</td>\n",
       "      <td>0.878858</td>\n",
       "      <td>0.876543</td>\n",
       "    </tr>\n",
       "  </tbody>\n",
       "</table>\n",
       "</div>"
      ],
      "text/plain": [
       "        HDA       HBA       HCA      HPRA  FINDER(ba)  FINDER(dark)  \\\n",
       "2  0.866211  0.873047  0.866211  0.866211    0.868164      0.869141   \n",
       "3  0.928819  0.924479  0.931424  0.927517    0.929687      0.929253   \n",
       "4  0.806641  0.794922  0.807617  0.799805    0.802734      0.802734   \n",
       "5  0.855956  0.851108  0.838643  0.853186    0.857341      0.862881   \n",
       "7  0.888889  0.888117  0.903549  0.881173    0.881173      0.878858   \n",
       "\n",
       "   FINDER(covert)  \n",
       "2        0.874023  \n",
       "3        0.931858  \n",
       "4        0.799805  \n",
       "5        0.863573  \n",
       "7        0.876543  "
      ]
     },
     "execution_count": 15,
     "metadata": {},
     "output_type": "execute_result"
    }
   ],
   "source": [
    "reward_dct, len_dct = {}, {}\n",
    "for idx, file_name in mapping.items():\n",
    "    with open(f\"../empirical_data/hxa_reward_hist/g_{idx}.json\", \"r\") as json_file:\n",
    "        data = json.load(json_file)\n",
    "    dct = dict()\n",
    "    for HXA in ['HDA', 'HBA', 'HCA', 'HPRA']:\n",
    "        dct[HXA] = data[HXA][-1]\n",
    "\n",
    "    for model in [\"ba\", \"dark\", \"covert\"]:\n",
    "        with open(f\"../empirical_data/finder_reward_hist/{model}_{idx}.json\", \"r\") as json_file:\n",
    "            data = json.load(json_file)\n",
    "        dct[f\"FINDER({model})\"] = data[-1]\n",
    "    reward_dct[idx] = dct\n",
    "\n",
    "# TODO: FINDER reward 要加進來\n",
    "pd.DataFrame.from_dict(reward_dct, orient='index')"
   ]
  },
  {
   "cell_type": "markdown",
   "id": "c90e669e",
   "metadata": {},
   "source": [
    "# Synthetic"
   ]
  },
  {
   "cell_type": "code",
   "execution_count": 88,
   "id": "colored-penny",
   "metadata": {},
   "outputs": [
    {
     "name": "stdout",
     "output_type": "stream",
     "text": [
      "HDA 59.7\n",
      "HBA 173.8\n",
      "HCA 60.8\n",
      "HPRA 59.4\n",
      "FINDER 64.4\n"
     ]
    }
   ],
   "source": [
    "# Read the JSON file\n",
    "reward_dct = {\n",
    "    \"HDA\": [], \"HBA\": [], \n",
    "    \"HCA\": [], \"HPRA\": [], \n",
    "    \"FINDER\": []\n",
    "}\n",
    "len_dct = {\n",
    "    \"HDA\": [], \"HBA\": [], \n",
    "    \"HCA\": [], \"HPRA\": [], \n",
    "    \"FINDER\": []\n",
    "}\n",
    "for i in range(10):\n",
    "    with open(f\"./ba/hxa_reward_hist/g_{i}.json\", \"r\") as json_file:\n",
    "        data = json.load(json_file)\n",
    "     \n",
    "    for HXA in ['HDA', 'HBA', 'HCA', 'HPRA']:\n",
    "        reward_dct[HXA].append(data[HXA][-1])\n",
    "        len_dct[HXA].append(len(data[HXA]))\n",
    "\n",
    "    with open(f\"./ba/finder_reward_hist/g_{i}.json\", \"r\") as json_file:\n",
    "        data = json.load(json_file)\n",
    "        reward_dct[\"FINDER\"].append(data[-1])\n",
    "        len_dct[\"FINDER\"].append(len(data))\n",
    "\n",
    "for key in reward_dct.keys():\n",
    "    print(key, np.mean(len_dct[key]))"
   ]
  }
 ],
 "metadata": {
  "kernelspec": {
   "display_name": "Python 3",
   "language": "python",
   "name": "python3"
  },
  "language_info": {
   "codemirror_mode": {
    "name": "ipython",
    "version": 3
   },
   "file_extension": ".py",
   "mimetype": "text/x-python",
   "name": "python",
   "nbconvert_exporter": "python",
   "pygments_lexer": "ipython3",
   "version": "3.7.4"
  }
 },
 "nbformat": 4,
 "nbformat_minor": 5
}
