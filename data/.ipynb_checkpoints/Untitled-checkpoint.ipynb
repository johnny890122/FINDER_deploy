{
 "cells": [
  {
   "cell_type": "code",
   "execution_count": 49,
   "id": "hearing-reminder",
   "metadata": {},
   "outputs": [],
   "source": [
    "import pandas as pd\n",
    "import json\n",
    "import numpy as np"
   ]
  },
  {
   "cell_type": "code",
   "execution_count": 51,
   "id": "colored-penny",
   "metadata": {},
   "outputs": [
    {
     "name": "stdout",
     "output_type": "stream",
     "text": [
      "HDA 11.969508030201713 4.32\n",
      "HBA 14.050352920170663 58.9\n",
      "HCA 11.932221102092305 4.29\n",
      "HPRA 12.055786491340431 4.4\n",
      "FINDER 14.400284740795868 20.7\n"
     ]
    }
   ],
   "source": [
    "# Read the JSON file\n",
    "reward_dct = {\n",
    "    \"HDA\": [], \n",
    "    \"HBA\": [], \n",
    "    \"HCA\": [], \n",
    "    \"HPRA\": [], \n",
    "    \"FINDER\": []\n",
    "}\n",
    "len_dct = {\n",
    "    \"HDA\": [], \n",
    "    \"HBA\": [], \n",
    "    \"HCA\": [], \n",
    "    \"HPRA\": [], \n",
    "    \"FINDER\": []\n",
    "}\n",
    "for i in range(100):\n",
    "    with open(f\"./dark/reward_hist/g_{i}.json\", \"r\") as json_file:\n",
    "        data = json.load(json_file)\n",
    "    \n",
    "    for HXA in ['HDA', 'HBA', 'HCA', 'HPRA']:\n",
    "        reward_dct[HXA].append(data[HXA][-1])\n",
    "        len_dct[HXA].append(len(data[HXA]))\n",
    "        \n",
    "\n",
    "    with open(f\"./dark/finder_reward_hist/g_{i}.json\", \"r\") as json_file:\n",
    "        data = json.load(json_file)\n",
    "        reward_dct[\"FINDER\"].append(data[-1])\n",
    "        len_dct[\"FINDER\"].append(len(data))\n",
    "\n",
    "for key in reward_dct.keys():\n",
    "    print(key, np.mean(reward_dct[key])*10000, np.mean(len_dct[key]))"
   ]
  },
  {
   "cell_type": "code",
   "execution_count": null,
   "id": "empty-popularity",
   "metadata": {},
   "outputs": [],
   "source": []
  },
  {
   "cell_type": "code",
   "execution_count": null,
   "id": "parallel-ordinary",
   "metadata": {},
   "outputs": [],
   "source": []
  },
  {
   "cell_type": "code",
   "execution_count": null,
   "id": "absent-harvest",
   "metadata": {},
   "outputs": [],
   "source": []
  }
 ],
 "metadata": {
  "kernelspec": {
   "display_name": "Python 3",
   "language": "python",
   "name": "python3"
  },
  "language_info": {
   "codemirror_mode": {
    "name": "ipython",
    "version": 3
   },
   "file_extension": ".py",
   "mimetype": "text/x-python",
   "name": "python",
   "nbconvert_exporter": "python",
   "pygments_lexer": "ipython3",
   "version": "3.8.5"
  }
 },
 "nbformat": 4,
 "nbformat_minor": 5
}
