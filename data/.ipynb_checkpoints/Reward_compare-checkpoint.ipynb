{
 "cells": [
  {
   "cell_type": "code",
   "execution_count": 85,
   "id": "hearing-reminder",
   "metadata": {},
   "outputs": [],
   "source": [
    "import pandas as pd\n",
    "import json\n",
    "import numpy as np\n",
    "import math\n",
    "import matplotlib.pyplot as plt\n",
    "import networkx as nx"
   ]
  },
  {
   "cell_type": "code",
   "execution_count": 86,
   "id": "colored-penny",
   "metadata": {},
   "outputs": [
    {
     "name": "stdout",
     "output_type": "stream",
     "text": [
      "HDA 0.9214188093852539 200.0\n",
      "HBA 0.9143173413247275 200.0\n",
      "HCA 0.92052721245491 200.0\n",
      "HPRA 0.9219364463455382 200.0\n",
      "FINDER 0.8697828289369192 200.0\n"
     ]
    }
   ],
   "source": [
    "# Read the JSON file\n",
    "reward_dct = {\n",
    "    \"HDA\": [], \"HBA\": [], \n",
    "    \"HCA\": [], \"HPRA\": [], \n",
    "    \"FINDER\": []\n",
    "}\n",
    "len_dct = {\n",
    "    \"HDA\": [], \"HBA\": [], \n",
    "    \"HCA\": [], \"HPRA\": [], \n",
    "    \"FINDER\": []\n",
    "}\n",
    "for i in range(100):\n",
    "    with open(f\"./ba/hxa_reward_hist/g_{i}.json\", \"r\") as json_file:\n",
    "        data = json.load(json_file)\n",
    "    \n",
    "    for HXA in ['HDA', 'HBA', 'HCA', 'HPRA']:\n",
    "        reward_dct[HXA].append(data[HXA][-1])\n",
    "        len_dct[HXA].append(len(data[HXA]))\n",
    "\n",
    "    with open(f\"./ba/finder_reward_hist/g_{i}.json\", \"r\") as json_file:\n",
    "        data = json.load(json_file)\n",
    "        reward_dct[\"FINDER\"].append(data[-1])\n",
    "        len_dct[\"FINDER\"].append(len(data))\n",
    "\n",
    "for key in reward_dct.keys():\n",
    "    print(key, np.mean(len_dct[key]))"
   ]
  },
  {
   "cell_type": "code",
   "execution_count": 74,
   "id": "empty-popularity",
   "metadata": {},
   "outputs": [],
   "source": []
  },
  {
   "cell_type": "code",
   "execution_count": null,
   "id": "parallel-ordinary",
   "metadata": {},
   "outputs": [],
   "source": []
  },
  {
   "cell_type": "code",
   "execution_count": 77,
   "id": "absent-harvest",
   "metadata": {},
   "outputs": [
    {
     "data": {
      "text/plain": [
       "NodeView((0, 1, 3, 4, 5, 6, 7, 8, 9, 10, 11, 12, 13, 14, 15, 16, 17, 18, 19, 20, 21, 22, 23, 24, 25, 26, 27, 28, 29, 30, 31, 32, 33, 34, 35, 36, 37, 38, 39, 40, 41, 42, 43, 44, 45, 46, 47, 48, 49, 50, 51, 52, 53, 54, 55, 56, 57, 58, 59, 60, 61, 62, 63, 64, 65, 66, 67, 68, 69, 70, 71, 72, 73, 74, 75, 76, 77, 78, 79, 80, 81, 82, 83, 84, 85, 86, 87, 88, 89, 90, 91, 92, 93, 94, 95, 96, 97, 98, 99, 100, 101, 102, 103, 104, 105, 106, 107, 108, 109, 110, 111, 112, 113, 114, 115, 116, 117, 118, 119, 120, 121, 122, 123, 124, 125, 126, 127, 128, 129, 130, 131, 132, 133, 134, 135, 136, 137, 138, 139, 140, 141, 142, 143, 144, 145, 146, 147, 148, 149, 150, 151, 152, 153, 154, 155, 156, 157, 158, 159, 160, 161, 162, 163, 164, 165, 166, 167, 168, 169, 170, 171, 172, 173, 174, 175, 176, 177, 178, 179, 180, 181, 182, 183, 184, 185, 186, 187, 188, 189, 190, 191, 192, 193, 194, 195, 196, 197, 198, 199))"
      ]
     },
     "execution_count": 77,
     "metadata": {},
     "output_type": "execute_result"
    }
   ],
   "source": [
    "a = nx.read_gml(\"../tmpG/g_1\")\n",
    "a.nodes()\n",
    "# a.edges()"
   ]
  },
  {
   "cell_type": "code",
   "execution_count": 80,
   "id": "irish-failure",
   "metadata": {},
   "outputs": [],
   "source": [
    "node_mapping = {\n",
    "node: cnt for cnt, node in enumerate(a.nodes())\n",
    "}\n",
    "\n",
    "b = nx.relabel_nodes(a, node_mapping)"
   ]
  },
  {
   "cell_type": "code",
   "execution_count": 81,
   "id": "stone-portable",
   "metadata": {},
   "outputs": [
    {
     "data": {
      "text/plain": [
       "NodeView((0, 1, 2, 3, 4, 5, 6, 7, 8, 9, 10, 11, 12, 13, 14, 15, 16, 17, 18, 19, 20, 21, 22, 23, 24, 25, 26, 27, 28, 29, 30, 31, 32, 33, 34, 35, 36, 37, 38, 39, 40, 41, 42, 43, 44, 45, 46, 47, 48, 49, 50, 51, 52, 53, 54, 55, 56, 57, 58, 59, 60, 61, 62, 63, 64, 65, 66, 67, 68, 69, 70, 71, 72, 73, 74, 75, 76, 77, 78, 79, 80, 81, 82, 83, 84, 85, 86, 87, 88, 89, 90, 91, 92, 93, 94, 95, 96, 97, 98, 99, 100, 101, 102, 103, 104, 105, 106, 107, 108, 109, 110, 111, 112, 113, 114, 115, 116, 117, 118, 119, 120, 121, 122, 123, 124, 125, 126, 127, 128, 129, 130, 131, 132, 133, 134, 135, 136, 137, 138, 139, 140, 141, 142, 143, 144, 145, 146, 147, 148, 149, 150, 151, 152, 153, 154, 155, 156, 157, 158, 159, 160, 161, 162, 163, 164, 165, 166, 167, 168, 169, 170, 171, 172, 173, 174, 175, 176, 177, 178, 179, 180, 181, 182, 183, 184, 185, 186, 187, 188, 189, 190, 191, 192, 193, 194, 195, 196, 197, 198))"
      ]
     },
     "execution_count": 81,
     "metadata": {},
     "output_type": "execute_result"
    }
   ],
   "source": [
    "b.nodes()"
   ]
  },
  {
   "cell_type": "code",
   "execution_count": null,
   "id": "female-profession",
   "metadata": {},
   "outputs": [],
   "source": []
  }
 ],
 "metadata": {
  "kernelspec": {
   "display_name": "Python 3",
   "language": "python",
   "name": "python3"
  },
  "language_info": {
   "codemirror_mode": {
    "name": "ipython",
    "version": 3
   },
   "file_extension": ".py",
   "mimetype": "text/x-python",
   "name": "python",
   "nbconvert_exporter": "python",
   "pygments_lexer": "ipython3",
   "version": "3.8.5"
  }
 },
 "nbformat": 4,
 "nbformat_minor": 5
}
