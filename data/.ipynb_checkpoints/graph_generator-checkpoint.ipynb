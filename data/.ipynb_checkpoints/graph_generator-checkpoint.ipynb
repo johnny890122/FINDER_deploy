{
 "cells": [
  {
   "cell_type": "code",
   "execution_count": 1,
   "id": "classified-vietnam",
   "metadata": {},
   "outputs": [],
   "source": [
    "import networkx as nx\n",
    "import matplotlib.pyplot as plt\n",
    "from typing import Type\n",
    "from simulator import CovertGenerator, DarkGenerator\n",
    "import numpy as np"
   ]
  },
  {
   "cell_type": "code",
   "execution_count": 2,
   "id": "exact-radical",
   "metadata": {},
   "outputs": [],
   "source": [
    "def ba_generator(min_n: int=20, max_n: int=30, m: int=2) -> Type[nx.classes.graph.Graph]:\n",
    "    n = np.random.randint(max_n - min_n + 1) + min_n\n",
    "    return nx.barabasi_albert_graph(n ,m)\n",
    "\n",
    "def covert_generator(min_n: int=20, max_n: int=30, density: int=0.1):\n",
    "    generator = CovertGenerator(min_n, max_n, density)\n",
    "    generator.simulate()\n",
    "    return generator.G\n",
    "\n",
    "def dark_generator(min_n: int=20, max_n: int=30, density: int=0.1):\n",
    "    generator = DarkGenerator(min_n, max_n, density)\n",
    "    generator.simulate()\n",
    "    return generator.G\n",
    "\n",
    "def get_real_graph(data_dir: str=\"./911/\", file_name: str=\"g_0\"):\n",
    "    return nx.read_gml(data_dir + file_name)\n",
    "\n",
    "def write_gml(G: Type[nx.classes.graph.Graph], output_dir: str, file_name: str) -> None:\n",
    "    nx.write_gml(G, output_dir+file_name)\n",
    "    \n",
    "def read_gml(data_dir: str, file_name: str) -> Type[nx.classes.graph.Graph]:\n",
    "    G = nx.read_gml(data_dir + file_name)\n",
    "    return nx.relabel_nodes(G, lambda x: int(x))"
   ]
  },
  {
   "cell_type": "code",
   "execution_count": 50,
   "id": "stuck-constitutional",
   "metadata": {},
   "outputs": [],
   "source": [
    "output_dir = \"./911/\"\n",
    "file_name = \"g_0\"\n",
    "ba_graph = ba_generator()\n",
    "write_gml(ba_graph, output_dir, file_name)\n",
    "# G = read_gml(output_dir, file_name)"
   ]
  },
  {
   "cell_type": "code",
   "execution_count": null,
   "id": "instant-westminster",
   "metadata": {},
   "outputs": [],
   "source": []
  },
  {
   "cell_type": "code",
   "execution_count": 9,
   "id": "serial-greek",
   "metadata": {},
   "outputs": [],
   "source": [
    "covert_graph = covert_generator()"
   ]
  },
  {
   "cell_type": "code",
   "execution_count": 7,
   "id": "ignored-consent",
   "metadata": {},
   "outputs": [],
   "source": [
    "dark_graph = dark_generator()"
   ]
  },
  {
   "cell_type": "code",
   "execution_count": 8,
   "id": "heard-model",
   "metadata": {},
   "outputs": [
    {
     "data": {
      "text/plain": [
       "NodeView((0, 1, 2, 3, 4, 5, 6, 7, 8, 9, 10, 11, 12, 13, 14, 15, 16, 17, 18, 19, 20, 21, 22, 23, 24, 25))"
      ]
     },
     "execution_count": 8,
     "metadata": {},
     "output_type": "execute_result"
    }
   ],
   "source": [
    "dark_graph"
   ]
  },
  {
   "cell_type": "code",
   "execution_count": 10,
   "id": "casual-lodge",
   "metadata": {},
   "outputs": [],
   "source": []
  },
  {
   "cell_type": "code",
   "execution_count": 11,
   "id": "interracial-tract",
   "metadata": {},
   "outputs": [
    {
     "data": {
      "text/plain": [
       "<networkx.classes.graph.Graph at 0x104807520>"
      ]
     },
     "execution_count": 11,
     "metadata": {},
     "output_type": "execute_result"
    }
   ],
   "source": [
    "_911_generator()"
   ]
  },
  {
   "cell_type": "code",
   "execution_count": null,
   "id": "fantastic-delaware",
   "metadata": {},
   "outputs": [],
   "source": []
  },
  {
   "cell_type": "code",
   "execution_count": null,
   "id": "desperate-tulsa",
   "metadata": {},
   "outputs": [],
   "source": []
  },
  {
   "cell_type": "code",
   "execution_count": null,
   "id": "aboriginal-explosion",
   "metadata": {},
   "outputs": [],
   "source": []
  }
 ],
 "metadata": {
  "kernelspec": {
   "display_name": "Python 3",
   "language": "python",
   "name": "python3"
  },
  "language_info": {
   "codemirror_mode": {
    "name": "ipython",
    "version": 3
   },
   "file_extension": ".py",
   "mimetype": "text/x-python",
   "name": "python",
   "nbconvert_exporter": "python",
   "pygments_lexer": "ipython3",
   "version": "3.8.5"
  }
 },
 "nbformat": 4,
 "nbformat_minor": 5
}
