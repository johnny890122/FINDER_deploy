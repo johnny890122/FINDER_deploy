{
 "cells": [
  {
   "cell_type": "code",
   "execution_count": 8,
   "metadata": {},
   "outputs": [],
   "source": [
    "import networkx as nx\n",
    "import numpy as np\n",
    "import pandas as pd\n",
    "from utility import HXA, hxa\n",
    "from simulator import fintuing_realG_generator"
   ]
  },
  {
   "cell_type": "code",
   "execution_count": 5,
   "metadata": {},
   "outputs": [],
   "source": [
    "maping = {\n",
    "    1: '911.gml', 2: 'DOMESTICTERRORWEB.gml', \n",
    "    3: 'suicide.gml', 4: 'HAMBURG_TIE_YEAR.gml',\n",
    "    5: 'HEROIN_DEALING.gml', 6: 'ITALIAN_GANGS.gml',\n",
    "    7: 'MAIL.gml', 8: 'NDRANGHETAMAFIA_2M.gml',\n",
    "    9: 'PREVERE1MODE.gml', 10: 'RHODESBOMBING.gml', 11:  'SWINGERS_club.gml',\n",
    "}"
   ]
  },
  {
   "cell_type": "code",
   "execution_count": 9,
   "metadata": {},
   "outputs": [
    {
     "name": "stdout",
     "output_type": "stream",
     "text": [
      "file_name: 911.gml\n",
      "19\n",
      "27\n"
     ]
    }
   ],
   "source": [
    "data_dir = \"../empirical_data/\"\n",
    "file_name = \"911.gml\"\n",
    "print(\"file_name:\", file_name)\n",
    "\n",
    "tmpG = fintuing_realG_generator(data_dir,file_name)\n",
    "print(tmpG.number_of_nodes())\n",
    "print(tmpG.number_of_edges())"
   ]
  }
 ],
 "metadata": {
  "kernelspec": {
   "display_name": "Python 3",
   "language": "python",
   "name": "python3"
  },
  "language_info": {
   "codemirror_mode": {
    "name": "ipython",
    "version": 3
   },
   "file_extension": ".py",
   "mimetype": "text/x-python",
   "name": "python",
   "nbconvert_exporter": "python",
   "pygments_lexer": "ipython3",
   "version": "3.8.17"
  },
  "orig_nbformat": 4
 },
 "nbformat": 4,
 "nbformat_minor": 2
}
